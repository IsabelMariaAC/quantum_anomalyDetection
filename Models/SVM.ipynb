{
 "cells": [
  {
   "cell_type": "code",
   "execution_count": null,
   "id": "c0963818",
   "metadata": {},
   "outputs": [],
   "source": [
    "!pip install ipynb\n",
    "!pip install nbimporter\n",
    "# Synthetic dataset\n",
    "from sklearn.datasets import make_classification\n",
    "# Data processing\n",
    "import pandas as pd\n",
    "import numpy as np\n",
    "from collections import Counter\n",
    "# Visualization\n",
    "import matplotlib.pyplot as plt\n",
    "# Model and performance\n",
    "from sklearn.svm import OneClassSVM\n",
    "from sklearn.svm import SVC\n",
    "from sklearn.model_selection import train_test_split\n",
    "from sklearn.metrics import classification_report\n",
    "from sklearn.metrics import accuracy_score,precision_score,recall_score,f1_score,roc_curve, auc\n",
    "import seaborn as sns\n",
    "import plotly.express as px\n",
    "sns.set(palette='rainbow', context='talk')\n",
    "from sklearn.metrics import precision_recall_curve\n",
    "\n",
    "import nbimporter\n",
    "from EDA import vowelData\n",
    "from EDA import irisData\n",
    "from EDA import breastcancerData"
   ]
  },
  {
   "attachments": {},
   "cell_type": "markdown",
   "id": "aa5c7068",
   "metadata": {},
   "source": [
    "# IRIS DATASET"
   ]
  },
  {
   "cell_type": "code",
   "execution_count": null,
   "id": "9d0216da",
   "metadata": {},
   "outputs": [],
   "source": [
    "df_, x ,y = irisData ()"
   ]
  },
  {
   "attachments": {},
   "cell_type": "markdown",
   "id": "a07de277",
   "metadata": {},
   "source": [
    "## Apply OCC-SVM"
   ]
  },
  {
   "cell_type": "code",
   "execution_count": null,
   "id": "011f884b",
   "metadata": {},
   "outputs": [],
   "source": [
    "target = 'target'\n",
    "print(\"The dataset selected has shape: \" + str(df_.shape) + \" and for each class \"+ str(Counter(df_[target])))"
   ]
  },
  {
   "attachments": {},
   "cell_type": "markdown",
   "id": "1ea8eb74",
   "metadata": {},
   "source": [
    "### For multi-class datasets we need to select 1 target class and then set an smaller amount of outliers"
   ]
  },
  {
   "cell_type": "code",
   "execution_count": null,
   "id": "d91603f6",
   "metadata": {},
   "outputs": [],
   "source": [
    "df = df_.copy()\n",
    "class_label = target\n",
    "\n",
    "#Select the class you want to be outlier\n",
    "out_class = 0\n",
    "outliers_samples = df[df.target == out_class]\n",
    "\n",
    "outliers_samples = outliers_samples.sample(frac = 0.2)\n",
    "\n",
    "#concat in out\n",
    "in_class = 1\n",
    "inlier_samples = df[df.target == in_class]\n",
    "\n",
    "# Concatenate the modified outliers samples with the original inlier samples\n",
    "y = pd.concat([inlier_samples.target, outliers_samples.target], ignore_index=False).sort_index()\n",
    "x = pd.concat([inlier_samples.drop(columns=class_label), outliers_samples.drop(columns=class_label)], ignore_index=False).sort_index()\n",
    "\n",
    "Counter(y)"
   ]
  },
  {
   "attachments": {},
   "cell_type": "markdown",
   "id": "649efcf1",
   "metadata": {},
   "source": [
    "### Now we proceed with the OCC-SVM"
   ]
  },
  {
   "cell_type": "code",
   "execution_count": null,
   "id": "94273a38",
   "metadata": {},
   "outputs": [],
   "source": [
    "# Train test split\n",
    "X_train, X_test, y_train, y_test = train_test_split(x, y, test_size=0.2, random_state=2468)"
   ]
  },
  {
   "cell_type": "code",
   "execution_count": null,
   "id": "e54de1dc",
   "metadata": {},
   "outputs": [],
   "source": [
    "# Check the number of records\n",
    "print('The number of records in the training dataset is', X_train.shape[0])\n",
    "print('The number of records in the test dataset is', X_test.shape[0])\n",
    "print(f\"The training dataset has {sorted(Counter(y_train).items())[0][1]} records for the minority class and {sorted(Counter(y_train).items())[1][1]} records for the majority class.\")"
   ]
  },
  {
   "cell_type": "code",
   "execution_count": null,
   "id": "f12ff9ff",
   "metadata": {},
   "outputs": [],
   "source": [
    "classical_kernels = ['linear', 'poly', 'rbf', 'sigmoid']\n",
    "ds1_f1 = []\n",
    "\n",
    "for kernel in classical_kernels:\n",
    "    # Train the one class support vector machine (SVM) model\n",
    "    one_class_svm = OneClassSVM(nu=0.2, kernel = kernel, gamma = 'auto').fit(X_train)\n",
    "    # Predict the anomalies\n",
    "    prediction = one_class_svm.predict(X_test)\n",
    "    prediction = [False if i==-1 else True for i in prediction]\n",
    "    print(\"{} kernel classification f1 score is {}\".format(kernel,f1_score(y_test, prediction)))\n",
    "    ds1_f1.append(f1_score(y_test, prediction))"
   ]
  },
  {
   "cell_type": "code",
   "execution_count": null,
   "id": "bb627425",
   "metadata": {},
   "outputs": [],
   "source": [
    "# Set the width of the bars\n",
    "bar_width = 0.4\n",
    "\n",
    "# Create a list of x positions for the bars\n",
    "x_pos = range(len(classical_kernels))\n",
    "\n",
    "# Create the bar plot\n",
    "plt.bar(x_pos, ds1_f1, width=bar_width)\n",
    "\n",
    "# Set the x-axis labels\n",
    "plt.xticks(x_pos, classical_kernels)\n",
    "\n",
    "# Set the y-axis label\n",
    "plt.ylabel('F1 Score')\n",
    "\n",
    "# Set the title of the graph\n",
    "plt.title('F1 Score for Different Kernels (Iris Dataset)')\n",
    "\n",
    "# Add the rounded values on top of each bar\n",
    "for i, value in enumerate(ds1_f1):\n",
    "    rounded_value = round(value, 3)  # Round off to three decimal points\n",
    "    plt.text(i, value, str(rounded_value), ha='center', va='bottom')\n",
    "\n",
    "# Show the plot\n",
    "plt.show()"
   ]
  },
  {
   "attachments": {},
   "cell_type": "markdown",
   "id": "2d868b24",
   "metadata": {},
   "source": [
    "### Once we find the best performing kernal"
   ]
  },
  {
   "cell_type": "code",
   "execution_count": null,
   "id": "c488608a",
   "metadata": {},
   "outputs": [],
   "source": [
    "one_class_svm = OneClassSVM(nu=0.2, kernel = 'poly', gamma = 'auto').fit(X_train)\n",
    "# Predict the anomalies\n",
    "prediction = one_class_svm.predict(X_test)\n",
    "prediction = [False if i==-1 else True for i in prediction]\n",
    "print(classification_report(y_test, prediction))"
   ]
  },
  {
   "cell_type": "code",
   "execution_count": null,
   "id": "6397285b",
   "metadata": {},
   "outputs": [],
   "source": [
    "# Put the testing dataset and predictions in the same dataframe\n",
    "X_test_ = X_test.copy()\n",
    "y_test_ = y_test.copy()\n",
    "df_test = pd.DataFrame(X_test_)\n",
    "df_test['y_test'] = y_test_\n",
    "df_test['one_class_svm_prediction'] = prediction\n",
    "# Visualize the actual and predicted anomalies\n",
    "fig, (ax0, ax1)=plt.subplots(1,2, sharey=True, figsize=(15,6))\n",
    "# Ground truth\n",
    "ax0.set_title('Original')\n",
    "ax0.scatter(df_test[0], df_test[1], c=df_test['y_test'], cmap='rainbow')\n",
    "# One-Class SVM Predictions\n",
    "ax1.set_title('One-Class SVM Predictions')\n",
    "ax1.scatter(df_test[0], df_test[1], c=df_test['one_class_svm_prediction'], cmap='rainbow')\n",
    "plt.savefig('../figures/scatterplot_IRIS_SVM.png')"
   ]
  },
  {
   "attachments": {},
   "cell_type": "markdown",
   "id": "f220f621",
   "metadata": {},
   "source": [
    "### Evaluation Metrics"
   ]
  },
  {
   "cell_type": "code",
   "execution_count": null,
   "id": "465a9802",
   "metadata": {},
   "outputs": [],
   "source": [
    "preds = one_class_svm.predict(X_test)\n",
    "labels = y_test\n",
    "#calculate precision and recall\n",
    "precision, recall, thresholds = precision_recall_curve(y_test, preds)\n",
    "\n",
    "#create precision recall curve\n",
    "fig, ax = plt.subplots()\n",
    "ax.plot(recall, precision, color='purple')\n",
    "\n",
    "#add axis labels to plot\n",
    "ax.set_title('Precision-Recall Curve')\n",
    "ax.set_ylabel('Precision')\n",
    "ax.set_xlabel('Recall')\n",
    "\n",
    "#display plot\n",
    "#plt.show()\n",
    "plt.savefig('../figures/precisionCurve_IRIS_SVM.png')"
   ]
  },
  {
   "attachments": {},
   "cell_type": "markdown",
   "id": "9f320753",
   "metadata": {},
   "source": [
    "### ROC-curve"
   ]
  },
  {
   "cell_type": "code",
   "execution_count": null,
   "id": "d2dc10c4",
   "metadata": {},
   "outputs": [],
   "source": [
    "train_prediction = one_class_svm.predict(X_train)\n",
    "train_fpr, train_tpr, tr_thresholds = roc_curve(y_train, train_prediction)\n",
    "test_fpr, test_tpr, te_thresholds = roc_curve(y_test, prediction)\n",
    "\n",
    "plt.grid()\n",
    "\n",
    "plt.plot(train_fpr, train_tpr, label=\" AUC TRAIN =\"+str(auc(train_fpr, train_tpr)))\n",
    "plt.plot(test_fpr, test_tpr, label=\" AUC TEST =\"+str(auc(test_fpr, test_tpr)))\n",
    "plt.plot([0,1],[0,1],'g--')\n",
    "plt.legend()\n",
    "plt.xlabel(\"False Positive Rate\")\n",
    "plt.ylabel(\"True Positive Rate\")\n",
    "plt.title(\"AUC(ROC curve)\")\n",
    "plt.grid(color='black', linestyle='-', linewidth=0.5)\n",
    "#plt.show()\n",
    "plt.savefig('../figures/ROCCurve_IRIS_SVM.png')"
   ]
  },
  {
   "attachments": {},
   "cell_type": "markdown",
   "id": "72576927",
   "metadata": {},
   "source": [
    "# VOWEL DATASET"
   ]
  },
  {
   "cell_type": "code",
   "execution_count": null,
   "id": "534874c2",
   "metadata": {},
   "outputs": [],
   "source": [
    "df_, x ,y = vowelData ()"
   ]
  },
  {
   "attachments": {},
   "cell_type": "markdown",
   "id": "41c877c5",
   "metadata": {},
   "source": [
    "## Apply OCC-SVM"
   ]
  },
  {
   "cell_type": "code",
   "execution_count": null,
   "id": "573d615f",
   "metadata": {},
   "outputs": [],
   "source": [
    "#for vowels dataset\n",
    "target = 'feature12'\n",
    "\n",
    "print(\"The dataset selected has shape: \" + str(df_.shape) + \" and for each class \"+ str(Counter(df_[target])))"
   ]
  },
  {
   "attachments": {},
   "cell_type": "markdown",
   "id": "ca8e2b71",
   "metadata": {},
   "source": [
    "### For multi-class datasets we need to select 1 target class and then set an smaller amount of outliers"
   ]
  },
  {
   "cell_type": "code",
   "execution_count": null,
   "id": "fca61727",
   "metadata": {},
   "outputs": [],
   "source": [
    "df = df_.copy()\n",
    "\n",
    "#Select the class you want to be outlier\n",
    "out_class = 0\n",
    "outliers_samples = df[df.feature12 == out_class]\n",
    "\n",
    "outliers_samples = outliers_samples.sample(frac = 0.2)\n",
    "\n",
    "#concat in out\n",
    "in_class = 1\n",
    "inlier_samples = df[df.feature12 == in_class]\n",
    "\n",
    "# Concatenate the modified outliers samples with the original inlier samples\n",
    "y = pd.concat([inlier_samples.feature12, outliers_samples.feature12], ignore_index=False).sort_index()\n",
    "x = pd.concat([inlier_samples.drop(columns='feature12'), outliers_samples.drop(columns='feature12')], ignore_index=False).sort_index()\n",
    "\n",
    "Counter(y)"
   ]
  },
  {
   "attachments": {},
   "cell_type": "markdown",
   "id": "4358cc94",
   "metadata": {},
   "source": [
    "### Now we proceed with the OCC-SVM"
   ]
  },
  {
   "cell_type": "code",
   "execution_count": null,
   "id": "e9a48856",
   "metadata": {},
   "outputs": [],
   "source": [
    "# Train test split\n",
    "X_train, X_test, y_train, y_test = train_test_split(x, y, test_size=0.2, random_state=2468)"
   ]
  },
  {
   "cell_type": "code",
   "execution_count": null,
   "id": "f94ac17d",
   "metadata": {},
   "outputs": [],
   "source": [
    "# Check the number of records\n",
    "print('The number of records in the training dataset is', X_train.shape[0])\n",
    "print('The number of records in the test dataset is', X_test.shape[0])\n",
    "print(f\"The training dataset has {sorted(Counter(y_train).items())[0][1]} records for the minority class and {sorted(Counter(y_train).items())[1][1]} records for the majority class.\")"
   ]
  },
  {
   "cell_type": "code",
   "execution_count": null,
   "id": "2e51a7f5",
   "metadata": {},
   "outputs": [],
   "source": [
    "classical_kernels = ['linear', 'poly', 'rbf', 'sigmoid']\n",
    "ds1_f1 = []\n",
    "\n",
    "for kernel in classical_kernels:\n",
    "    # Train the one class support vector machine (SVM) model\n",
    "    one_class_svm = OneClassSVM(nu=0.2, kernel = kernel, gamma = 'auto').fit(X_train)\n",
    "    # Predict the anomalies\n",
    "    prediction = one_class_svm.predict(X_test)\n",
    "    prediction = [False if i==-1 else True for i in prediction]\n",
    "    print(\"{} kernel classification f1 score is {}\".format(kernel,f1_score(y_test, prediction)))\n",
    "    ds1_f1.append(f1_score(y_test, prediction))"
   ]
  },
  {
   "cell_type": "code",
   "execution_count": null,
   "id": "2fe4cf22",
   "metadata": {},
   "outputs": [],
   "source": [
    "# Set the width of the bars\n",
    "bar_width = 0.4\n",
    "\n",
    "# Create a list of x positions for the bars\n",
    "x_pos = range(len(classical_kernels))\n",
    "\n",
    "# Create the bar plot\n",
    "plt.bar(x_pos, ds1_f1, width=bar_width)\n",
    "\n",
    "# Set the x-axis labels\n",
    "plt.xticks(x_pos, classical_kernels)\n",
    "\n",
    "# Set the y-axis label\n",
    "plt.ylabel('F1 Score')\n",
    "\n",
    "# Set the title of the graph\n",
    "plt.title('F1 Score for Different Kernels (Iris Dataset)')\n",
    "\n",
    "# Add the rounded values on top of each bar\n",
    "for i, value in enumerate(ds1_f1):\n",
    "    rounded_value = round(value, 3)  # Round off to three decimal points\n",
    "    plt.text(i, value, str(rounded_value), ha='center', va='bottom')\n",
    "\n",
    "# Show the plot\n",
    "plt.show()"
   ]
  },
  {
   "attachments": {},
   "cell_type": "markdown",
   "id": "38036b23",
   "metadata": {},
   "source": [
    "### Once we find the best performing kernal"
   ]
  },
  {
   "cell_type": "code",
   "execution_count": null,
   "id": "58fa3c52",
   "metadata": {},
   "outputs": [],
   "source": [
    "one_class_svm = OneClassSVM(nu=0.2, kernel = 'rbf', gamma = 'auto').fit(X_train)\n",
    "# Predict the anomalies\n",
    "prediction = one_class_svm.predict(X_test)\n",
    "prediction = [False if i==-1 else True for i in prediction]\n",
    "print(classification_report(y_test, prediction))"
   ]
  },
  {
   "cell_type": "code",
   "execution_count": null,
   "id": "8a792f11",
   "metadata": {},
   "outputs": [],
   "source": [
    "# Put the testing dataset and predictions in the same dataframe\n",
    "X_test_ = X_test.copy()\n",
    "y_test_ = y_test.copy()\n",
    "df_test = pd.DataFrame(X_test_)\n",
    "df_test['y_test'] = y_test_\n",
    "df_test['one_class_svm_prediction'] = prediction\n",
    "# Visualize the actual and predicted anomalies\n",
    "fig, (ax0, ax1)=plt.subplots(1,2, sharey=True, figsize=(15,6))\n",
    "# Ground truth\n",
    "ax0.set_title('Original')\n",
    "ax0.scatter(df_test['feature3'], df_test['feature4'], c=df_test['y_test'], cmap='rainbow')\n",
    "# One-Class SVM Predictions\n",
    "ax1.set_title('One-Class SVM Predictions')\n",
    "ax1.scatter(df_test['feature3'], df_test['feature4'], c=df_test['one_class_svm_prediction'], cmap='rainbow')\n",
    "plt.savefig('../figures/ScatterPlot_VOWEL_SVM.png')"
   ]
  },
  {
   "attachments": {},
   "cell_type": "markdown",
   "id": "eb82f35e",
   "metadata": {},
   "source": [
    "### Evaluation Metrics"
   ]
  },
  {
   "cell_type": "code",
   "execution_count": null,
   "id": "b0b8ea57",
   "metadata": {},
   "outputs": [],
   "source": [
    "preds = one_class_svm.predict(X_test)\n",
    "labels = y_test\n",
    "#calculate precision and recall\n",
    "precision, recall, thresholds = precision_recall_curve(y_test, preds)\n",
    "\n",
    "#create precision recall curve\n",
    "fig, ax = plt.subplots()\n",
    "ax.plot(recall, precision, color='purple')\n",
    "\n",
    "#add axis labels to plot\n",
    "ax.set_title('Precision-Recall Curve')\n",
    "ax.set_ylabel('Precision')\n",
    "ax.set_xlabel('Recall')\n",
    "\n",
    "#display plot\n",
    "#plt.show()\n",
    "plt.savefig('../figures/PrecisionCurve_VOWEL_SVM.png')"
   ]
  },
  {
   "attachments": {},
   "cell_type": "markdown",
   "id": "6a89e001",
   "metadata": {},
   "source": [
    "### ROC-curve"
   ]
  },
  {
   "cell_type": "code",
   "execution_count": null,
   "id": "2455386b",
   "metadata": {},
   "outputs": [],
   "source": [
    "train_prediction = one_class_svm.predict(X_train)\n",
    "train_fpr, train_tpr, tr_thresholds = roc_curve(y_train, train_prediction)\n",
    "test_fpr, test_tpr, te_thresholds = roc_curve(y_test, prediction)\n",
    "\n",
    "plt.grid()\n",
    "\n",
    "plt.plot(train_fpr, train_tpr, label=\" AUC TRAIN =\"+str(auc(train_fpr, train_tpr)))\n",
    "plt.plot(test_fpr, test_tpr, label=\" AUC TEST =\"+str(auc(test_fpr, test_tpr)))\n",
    "plt.plot([0,1],[0,1],'g--')\n",
    "plt.legend()\n",
    "plt.xlabel(\"False Positive Rate\")\n",
    "plt.ylabel(\"True Positive Rate\")\n",
    "plt.title(\"AUC(ROC curve)\")\n",
    "plt.grid(color='black', linestyle='-', linewidth=0.5)\n",
    "#plt.show()\n",
    "plt.savefig('../figures/RocCurve_VOWEL_SVM.png')"
   ]
  },
  {
   "attachments": {},
   "cell_type": "markdown",
   "id": "413958fe",
   "metadata": {},
   "source": [
    "# BREAST CANCER DATASET"
   ]
  },
  {
   "cell_type": "code",
   "execution_count": null,
   "id": "fa10d85d",
   "metadata": {},
   "outputs": [],
   "source": [
    "df_, x ,y = breastcancerData()"
   ]
  },
  {
   "attachments": {},
   "cell_type": "markdown",
   "id": "93ff6b4f",
   "metadata": {},
   "source": [
    "## Apply OCC-SVM"
   ]
  },
  {
   "cell_type": "code",
   "execution_count": null,
   "id": "5c2aa102",
   "metadata": {},
   "outputs": [],
   "source": [
    "target = 'target'\n",
    "\n",
    "print(\"The dataset selected has shape: \" + str(df_.shape) + \" and for each class \"+ str(Counter(df_[target])))"
   ]
  },
  {
   "attachments": {},
   "cell_type": "markdown",
   "id": "f88e31ae",
   "metadata": {},
   "source": [
    "### For multi-class datasets we need to select 1 target class and then set an smaller amount of outliers"
   ]
  },
  {
   "cell_type": "code",
   "execution_count": null,
   "id": "bc6dc185",
   "metadata": {},
   "outputs": [],
   "source": [
    "df = df_.copy()\n",
    "class_label = target\n",
    "\n",
    "#Select the class you want to be outlier\n",
    "out_class = 0\n",
    "outliers_samples = df[df.target == out_class]\n",
    "\n",
    "outliers_samples = outliers_samples.sample(frac = 0.2)\n",
    "\n",
    "#concat in out\n",
    "in_class = 1\n",
    "inlier_samples = df[df.target == in_class]\n",
    "\n",
    "# Concatenate the modified outliers samples with the original inlier samples\n",
    "y = pd.concat([inlier_samples.target, outliers_samples.target], ignore_index=False).sort_index()\n",
    "x = pd.concat([inlier_samples.drop(columns=class_label), outliers_samples.drop(columns=class_label)], ignore_index=False).sort_index()\n",
    "\n",
    "Counter(y)"
   ]
  },
  {
   "attachments": {},
   "cell_type": "markdown",
   "id": "51b8be1f",
   "metadata": {},
   "source": [
    "### Now we proceed with the OCC-SVM"
   ]
  },
  {
   "cell_type": "code",
   "execution_count": null,
   "id": "ab054aac",
   "metadata": {},
   "outputs": [],
   "source": [
    "# Train test split\n",
    "X_train, X_test, y_train, y_test = train_test_split(x, y, test_size=0.2, random_state=2468)"
   ]
  },
  {
   "cell_type": "code",
   "execution_count": null,
   "id": "3397691e",
   "metadata": {},
   "outputs": [],
   "source": [
    "# Check the number of records\n",
    "print('The number of records in the training dataset is', X_train.shape[0])\n",
    "print('The number of records in the test dataset is', X_test.shape[0])\n",
    "print(f\"The training dataset has {sorted(Counter(y_train).items())[0][1]} records for the minority class and {sorted(Counter(y_train).items())[1][1]} records for the majority class.\")"
   ]
  },
  {
   "cell_type": "code",
   "execution_count": null,
   "id": "4291a4f0",
   "metadata": {},
   "outputs": [],
   "source": [
    "classical_kernels = ['linear', 'poly', 'rbf', 'sigmoid']\n",
    "ds1_f1 = []\n",
    "\n",
    "for kernel in classical_kernels:\n",
    "    # Train the one class support vector machine (SVM) model\n",
    "    one_class_svm = OneClassSVM(nu=0.2, kernel = kernel, gamma = 'auto').fit(X_train)\n",
    "    # Predict the anomalies\n",
    "    prediction = one_class_svm.predict(X_test)\n",
    "    prediction = [False if i==-1 else True for i in prediction]\n",
    "    print(\"{} kernel classification f1 score is {}\".format(kernel,f1_score(y_test, prediction)))\n",
    "    ds1_f1.append(f1_score(y_test, prediction))"
   ]
  },
  {
   "cell_type": "code",
   "execution_count": null,
   "id": "343d99e1",
   "metadata": {},
   "outputs": [],
   "source": [
    "# Set the width of the bars\n",
    "bar_width = 0.4\n",
    "\n",
    "# Create a list of x positions for the bars\n",
    "x_pos = range(len(classical_kernels))\n",
    "\n",
    "# Create the bar plot\n",
    "plt.bar(x_pos, ds1_f1, width=bar_width)\n",
    "\n",
    "# Set the x-axis labels\n",
    "plt.xticks(x_pos, classical_kernels)\n",
    "\n",
    "# Set the y-axis label\n",
    "plt.ylabel('F1 Score')\n",
    "\n",
    "# Set the title of the graph\n",
    "plt.title('F1 Score for Different Kernels (Iris Dataset)')\n",
    "\n",
    "# Add the rounded values on top of each bar\n",
    "for i, value in enumerate(ds1_f1):\n",
    "    rounded_value = round(value, 3)  # Round off to three decimal points\n",
    "    plt.text(i, value, str(rounded_value), ha='center', va='bottom')\n",
    "\n",
    "# Show the plot\n",
    "plt.show()"
   ]
  },
  {
   "attachments": {},
   "cell_type": "markdown",
   "id": "936d36fb",
   "metadata": {},
   "source": [
    "### Once we find the best performing kernal"
   ]
  },
  {
   "cell_type": "code",
   "execution_count": null,
   "id": "e75852d8",
   "metadata": {},
   "outputs": [],
   "source": [
    "one_class_svm = OneClassSVM(nu=0.2, kernel = 'poly', gamma = 'auto').fit(X_train)\n",
    "# Predict the anomalies\n",
    "prediction = one_class_svm.predict(X_test)\n",
    "prediction = [False if i==-1 else True for i in prediction]\n",
    "print(classification_report(y_test, prediction))"
   ]
  },
  {
   "cell_type": "code",
   "execution_count": null,
   "id": "7745e871",
   "metadata": {},
   "outputs": [],
   "source": [
    "# Put the testing dataset and predictions in the same dataframe\n",
    "X_test_ = X_test.copy()\n",
    "y_test_ = y_test.copy()\n",
    "df_test = pd.DataFrame(X_test_)\n",
    "df_test['y_test'] = y_test_\n",
    "df_test['one_class_svm_prediction'] = prediction\n",
    "# Visualize the actual and predicted anomalies\n",
    "fig, (ax0, ax1)=plt.subplots(1,2, sharey=True, figsize=(15,6))\n",
    "# Ground truth\n",
    "ax0.set_title('Original')\n",
    "ax0.scatter(df_test[0], df_test[1], c=df_test['y_test'], cmap='rainbow')\n",
    "# One-Class SVM Predictions\n",
    "ax1.set_title('One-Class SVM Predictions')\n",
    "ax1.scatter(df_test[0], df_test[1], c=df_test['one_class_svm_prediction'], cmap='rainbow')\n",
    "plt.savefig('../figures/Scatterplot_BREAST_SVM.png')"
   ]
  },
  {
   "attachments": {},
   "cell_type": "markdown",
   "id": "db6e8d38",
   "metadata": {},
   "source": [
    "### Evaluation Metrics"
   ]
  },
  {
   "cell_type": "code",
   "execution_count": null,
   "id": "9ecbcd1d",
   "metadata": {},
   "outputs": [],
   "source": [
    "preds = one_class_svm.predict(X_test)\n",
    "labels = y_test\n",
    "#calculate precision and recall\n",
    "precision, recall, thresholds = precision_recall_curve(y_test, preds)\n",
    "\n",
    "#create precision recall curve\n",
    "fig, ax = plt.subplots()\n",
    "ax.plot(recall, precision, color='purple')\n",
    "\n",
    "#add axis labels to plot\n",
    "ax.set_title('Precision-Recall Curve')\n",
    "ax.set_ylabel('Precision')\n",
    "ax.set_xlabel('Recall')\n",
    "\n",
    "#display plot\n",
    "#plt.show()\n",
    "plt.savefig('../figures/PrecisionCurve_BREAST_SVM.png')"
   ]
  },
  {
   "attachments": {},
   "cell_type": "markdown",
   "id": "0e1fd4f3",
   "metadata": {},
   "source": [
    "### ROC-curve"
   ]
  },
  {
   "cell_type": "code",
   "execution_count": null,
   "id": "79aa9665",
   "metadata": {},
   "outputs": [],
   "source": [
    "train_prediction = one_class_svm.predict(X_train)\n",
    "train_fpr, train_tpr, tr_thresholds = roc_curve(y_train, train_prediction)\n",
    "test_fpr, test_tpr, te_thresholds = roc_curve(y_test, prediction)\n",
    "\n",
    "plt.grid()\n",
    "\n",
    "plt.plot(train_fpr, train_tpr, label=\" AUC TRAIN =\"+str(auc(train_fpr, train_tpr)))\n",
    "plt.plot(test_fpr, test_tpr, label=\" AUC TEST =\"+str(auc(test_fpr, test_tpr)))\n",
    "plt.plot([0,1],[0,1],'g--')\n",
    "plt.legend()\n",
    "plt.xlabel(\"False Positive Rate\")\n",
    "plt.ylabel(\"True Positive Rate\")\n",
    "plt.title(\"AUC(ROC curve)\")\n",
    "plt.grid(color='black', linestyle='-', linewidth=0.5)\n",
    "#plt.show()\n",
    "plt.savefig('../figures/ROCCurve_BREAST_SVM.png')"
   ]
  },
  {
   "cell_type": "code",
   "execution_count": null,
   "id": "2838f02b",
   "metadata": {},
   "outputs": [],
   "source": []
  }
 ],
 "metadata": {
  "kernelspec": {
   "display_name": "Python 3.9.6 64-bit",
   "language": "python",
   "name": "python3"
  },
  "language_info": {
   "codemirror_mode": {
    "name": "ipython",
    "version": 3
   },
   "file_extension": ".py",
   "mimetype": "text/x-python",
   "name": "python",
   "nbconvert_exporter": "python",
   "pygments_lexer": "ipython3",
   "version": "3.9.13"
  },
  "vscode": {
   "interpreter": {
    "hash": "31f2aee4e71d21fbe5cf8b01ff0e069b9275f58929596ceb00d14d90e3e16cd6"
   }
  }
 },
 "nbformat": 4,
 "nbformat_minor": 5
}
