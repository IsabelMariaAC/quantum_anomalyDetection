{
 "cells": [
  {
   "cell_type": "code",
   "execution_count": 2,
   "metadata": {},
   "outputs": [],
   "source": [
    "import pandas as pd\n",
    "import numpy as np\n",
    "import matplotlib.pyplot as plt\n",
    "import seaborn as sns\n",
    "import sklearn\n",
    "from sklearn.datasets import load_iris\n",
    "from sklearn.datasets import load_breast_cancer\n",
    "from scipy.io import arff\n",
    "from collections import Counter\n",
    "from ydata_profiling import ProfileReport"
   ]
  },
  {
   "attachments": {},
   "cell_type": "markdown",
   "metadata": {},
   "source": [
    "### Vowel dataset pre-processing"
   ]
  },
  {
   "cell_type": "code",
   "execution_count": 3,
   "metadata": {},
   "outputs": [],
   "source": [
    "#read dataset and set the name of the columns\n",
    "def vowelData ():\n",
    "    name = 'vowel'\n",
    "\n",
    "    vowel = arff.loadarff(\"/Users/isabelmariaadrovercabot/Desktop/Master_DataScience/Year_1/Period_6/Quantum_project/quantum_anomalyDetection/DataSets/vowels\")\n",
    "\n",
    "    vowel_data = pd.DataFrame(vowel[0])\n",
    "    vowel_data.columns = ['feature{}'.format(i) for i in range(0,vowel_data.shape[1])]\n",
    "\n",
    "    mappings = {}\n",
    "    count = 0\n",
    "    for i in list(Counter(vowel_data['feature12']).keys()):\n",
    "        mappings[i] = count\n",
    "        count = count +1\n",
    "\n",
    "    mappings_users = {}\n",
    "    count_users = 0\n",
    "    for i in list(Counter(vowel_data['feature0']).keys()):\n",
    "        mappings_users[i] = count_users\n",
    "        count_users = count_users +1\n",
    "    \n",
    "    vowel_data.feature12 = vowel_data.feature12.fillna('nan').apply(lambda x: mappings[x])\n",
    "    vowel_data.feature0 = vowel_data.feature0.fillna('nan').apply(lambda x: mappings_users[x])\n",
    "    vowel_data.feature1 = vowel_data.feature1.fillna('nan').apply(lambda x: {b'Male':0,b'Female':1}[x])\n",
    "\n",
    "    return vowel_data, vowel_data.drop(columns='feature12'),vowel_data.feature12"
   ]
  },
  {
   "attachments": {},
   "cell_type": "markdown",
   "metadata": {},
   "source": [
    "### IRIS pre-processing"
   ]
  },
  {
   "cell_type": "code",
   "execution_count": null,
   "metadata": {},
   "outputs": [],
   "source": [
    "def irisData ():\n",
    "    name = 'iris'\n",
    "    iris = load_iris()\n",
    "\n",
    "\n",
    "    iris_dataset = pd.DataFrame(data=iris, columns=iris.feature_names)\n",
    "    iris_dataset.columns = ['feature{}'.format(i) for i in range(0,iris_dataset.shape[1])]\n",
    "        \n",
    "    dataset = pd.DataFrame(iris.data).assign(target=iris.target)\n",
    "\n",
    "    return dataset, iris.data, iris.target"
   ]
  },
  {
   "attachments": {},
   "cell_type": "markdown",
   "metadata": {},
   "source": [
    "### Breast Cancer pre-processing"
   ]
  },
  {
   "cell_type": "code",
   "execution_count": null,
   "metadata": {},
   "outputs": [],
   "source": [
    "\n",
    "def breastcancerData():\n",
    "    name = 'breast_cancer'\n",
    "    breast_cancer = load_breast_cancer()\n",
    "    breast_cancerData = pd.DataFrame(data=breast_cancer, columns=breast_cancer.feature_names)\n",
    "    breast_cancerData.columns = ['feature{}'.format(i) for i in range(0,breast_cancerData.shape[1])]\n",
    "    \n",
    "    dataset = pd.DataFrame(breast_cancer.data).assign(target=breast_cancer.target)\n",
    "\n",
    "    return dataset, breast_cancer.data, breast_cancer.target"
   ]
  },
  {
   "attachments": {},
   "cell_type": "markdown",
   "metadata": {},
   "source": [
    "### EDA"
   ]
  },
  {
   "cell_type": "code",
   "execution_count": null,
   "metadata": {},
   "outputs": [],
   "source": [
    "#call one of the function to load the dataset\n",
    "#df, data ,target = vowelData ()\n",
    "#df, data ,target = irisData ()\n",
    "df, data ,target = breastcancerData()"
   ]
  },
  {
   "cell_type": "code",
   "execution_count": null,
   "metadata": {},
   "outputs": [],
   "source": [
    "profile = ProfileReport(df, title = \"Profiling Report Vowels\")"
   ]
  },
  {
   "cell_type": "code",
   "execution_count": null,
   "metadata": {},
   "outputs": [],
   "source": [
    "profile"
   ]
  },
  {
   "cell_type": "code",
   "execution_count": null,
   "metadata": {},
   "outputs": [],
   "source": []
  }
 ],
 "metadata": {
  "kernelspec": {
   "display_name": "Python 3.8.9 64-bit",
   "language": "python",
   "name": "python3"
  },
  "language_info": {
   "codemirror_mode": {
    "name": "ipython",
    "version": 3
   },
   "file_extension": ".py",
   "mimetype": "text/x-python",
   "name": "python",
   "nbconvert_exporter": "python",
   "pygments_lexer": "ipython3",
   "version": "3.9.13"
  },
  "orig_nbformat": 4,
  "vscode": {
   "interpreter": {
    "hash": "31f2aee4e71d21fbe5cf8b01ff0e069b9275f58929596ceb00d14d90e3e16cd6"
   }
  }
 },
 "nbformat": 4,
 "nbformat_minor": 2
}
