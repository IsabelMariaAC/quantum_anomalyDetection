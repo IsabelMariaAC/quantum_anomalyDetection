{
 "cells": [
  {
   "cell_type": "code",
   "execution_count": 2,
   "id": "fcfcc58a-b2f6-479c-be97-2451601a64ed",
   "metadata": {
    "tags": []
   },
   "outputs": [],
   "source": [
    "# General Imports\n",
    "import numpy as np\n",
    "import pandas as pd\n",
    "from collections import Counter\n",
    "import time\n",
    "\n",
    "# Visualisation Imports\n",
    "import matplotlib.pyplot as plt\n",
    "\n",
    "# Scikit Imports\n",
    "from sklearn import datasets\n",
    "from sklearn.model_selection import train_test_split\n",
    "from sklearn.svm import SVC\n",
    "from sklearn.decomposition import PCA\n",
    "from sklearn.preprocessing import StandardScaler, MinMaxScaler\n",
    "\n",
    "# Qiskit Imports\n",
    "from qiskit import Aer, execute\n",
    "from qiskit.circuit import QuantumCircuit, Parameter, ParameterVector\n",
    "from qiskit.circuit.library import PauliFeatureMap, ZFeatureMap, ZZFeatureMap\n",
    "from qiskit.circuit.library import TwoLocal, NLocal, RealAmplitudes, EfficientSU2\n",
    "from qiskit.circuit.library import HGate, RXGate, RYGate, RZGate, CXGate, CRXGate, CRZGate\n",
    "from qiskit_machine_learning.kernels import QuantumKernel, FidelityQuantumKernel\n",
    "from qiskit_machine_learning.algorithms import QSVC\n",
    "from qiskit.algorithms.state_fidelities import ComputeUncompute\n",
    "\n",
    "# from ipynb.fs.full.EDA import vowelData\n",
    "# from ipynb.fs.full.EDA import irisData\n",
    "# from ipynb.fs.full.EDA import breastcancerData"
   ]
  },
  {
   "cell_type": "markdown",
   "id": "cfc6edb7-ec3d-42cd-91c7-b221d2f5da39",
   "metadata": {},
   "source": [
    "# Loading the dataset"
   ]
  },
  {
   "cell_type": "code",
   "execution_count": 3,
   "id": "5b5e4b0f-24fc-4fd4-aec0-7bbcfa97434f",
   "metadata": {
    "tags": []
   },
   "outputs": [
    {
     "data": {
      "text/plain": [
       "(569, 10)"
      ]
     },
     "execution_count": 3,
     "metadata": {},
     "output_type": "execute_result"
    }
   ],
   "source": [
    "from sklearn.datasets import load_breast_cancer\n",
    "breast = load_breast_cancer()\n",
    "n_samples = 1000\n",
    "n_feats = 10\n",
    "indexes = np.random.randint(0, 560, n_samples)\n",
    "x = breast.data[:n_samples,:n_feats]\n",
    "y = breast.target[:n_samples]\n",
    "x.shape"
   ]
  },
  {
   "cell_type": "code",
   "execution_count": 3,
   "id": "2f1e95e1-6de0-41cf-84c9-cb923658d969",
   "metadata": {
    "tags": []
   },
   "outputs": [
    {
     "name": "stdout",
     "output_type": "stream",
     "text": [
      "Traceback \u001b[1;36m(most recent call last)\u001b[0m:\n",
      "\u001b[1;36m  Cell \u001b[1;32mIn[3], line 4\u001b[1;36m\n",
      "\u001b[1;33m    df_, x ,y = breastcancerData()\u001b[1;36m\n",
      "\u001b[1;31mNameError\u001b[0m\u001b[1;31m:\u001b[0m name 'breastcancerData' is not defined\n",
      "\n",
      "Use %tb to get the full traceback.\n"
     ]
    },
    {
     "data": {
      "text/html": [
       "\n",
       "<style>\n",
       ".button {\n",
       "  border: none;\n",
       "  color: white;\n",
       "  padding: 4px 8px;\n",
       "  text-align: center;\n",
       "  text-decoration: none;\n",
       "  display: inline-block;\n",
       "  font-size: 12px;\n",
       "  margin: 4px 2px;\n",
       "  transition-duration: 0.2s;\n",
       "  cursor: pointer;\n",
       "}\n",
       ".iqx-button {\n",
       "  background-color: #0f62fe; \n",
       "  color: white; \n",
       "}\n",
       ".iqx-button:hover {\n",
       "  background-color: #0043ce;\n",
       "  color: white;\n",
       "}\n",
       "</style>\n",
       "<a href=\"https://stackoverflow.com/search?q=NameError: name 'breastcancerData' is not defined\" target='_blank'><button class='button iqx-button'>Search for solution online</button></a>\n"
      ],
      "text/plain": [
       "<IPython.core.display.HTML object>"
      ]
     },
     "metadata": {},
     "output_type": "display_data"
    }
   ],
   "source": [
    "#call one of the function to load the dataset\n",
    "#df_, x ,y = vowelData ()\n",
    "#df_, x ,y = irisData ()\n",
    "df_, x ,y = breastcancerData()\n"
   ]
  },
  {
   "cell_type": "code",
   "execution_count": 4,
   "id": "1bc9f841",
   "metadata": {
    "tags": []
   },
   "outputs": [
    {
     "name": "stdout",
     "output_type": "stream",
     "text": [
      "(455, 10) (455,) (114, 10) (114,)\n"
     ]
    }
   ],
   "source": [
    "X_train, X_test, y_train, y_test = train_test_split(x, y, test_size=0.2, random_state=42)\n",
    "X_train = np.array(X_train)\n",
    "X_test = np.array(X_test)\n",
    "y_train = np.array(y_train)\n",
    "y_test = np.array(y_test)\n",
    "num_qubits = x.shape[1]\n",
    "print(X_train.shape, y_train.shape, X_test.shape, y_test.shape)"
   ]
  },
  {
   "cell_type": "code",
   "execution_count": 5,
   "id": "9554b163-ea52-41ec-8df3-fd561eb95ec6",
   "metadata": {
    "tags": []
   },
   "outputs": [
    {
     "data": {
      "image/png": "[encoded data removed]",
      "text/plain": [
       "<Figure size 400x200 with 2 Axes>"
      ]
     },
     "metadata": {},
     "output_type": "display_data"
    }
   ],
   "source": [
    "fig, ax = plt.subplots(1,2, figsize=(4,2))\n",
    "\n",
    "ax[0].hist(y_train)\n",
    "ax[0].set_title(\"Train labels\")\n",
    "ax[1].hist(y_test)\n",
    "ax[1].set_title(\"Test labels\")\n",
    "plt.show()"
   ]
  },
  {
   "cell_type": "markdown",
   "id": "3ebc7e2c-7801-4514-a948-4c27c4ea99f9",
   "metadata": {
    "tags": []
   },
   "source": [
    "# Quantum things"
   ]
  },
  {
   "cell_type": "markdown",
   "id": "b4b0bb71-e44a-4515-9670-a54c79d90892",
   "metadata": {},
   "source": [
    "With our training and testing datasets ready, we set up the QuantumKernel class with the ZZFeatureMap, and use the BasicAer statevector_simulator to estimate the training and testing kernel matrices."
   ]
  },
  {
   "cell_type": "code",
   "execution_count": null,
   "id": "9bd7ca49-5d18-408f-8556-82c4cc054899",
   "metadata": {
    "tags": []
   },
   "outputs": [],
   "source": [
    "zz_map = ZZFeatureMap(feature_dimension=num_qubits, reps=2, entanglement='linear', insert_barriers=True)\n",
    "\n",
    "zz_kernel = QuantumKernel(feature_map=zz_map, quantum_instance=Aer.get_backend('statevector_simulator'))"
   ]
  },
  {
   "cell_type": "markdown",
   "id": "8042f8b0-6fe1-4b09-8acf-f9e9df7954c8",
   "metadata": {},
   "source": [
    "Let's calculate the transition amplitude between the first and second training data samples, one of the entries in the training kernel matrix."
   ]
  },
  {
   "cell_type": "markdown",
   "id": "75003d71-a3b3-4ce2-885b-fa20b75a9656",
   "metadata": {},
   "source": [
    "Let's create a circuit for the first sample and try to simulate"
   ]
  },
  {
   "cell_type": "code",
   "execution_count": null,
   "id": "0bae43cc-a1e7-45d2-a9c9-95432641f476",
   "metadata": {
    "tags": []
   },
   "outputs": [],
   "source": [
    "zz_circuit = zz_kernel.construct_circuit(X_train[0], X_train[1])\n",
    "# zz_circuit.decompose().decompose().draw(output='mpl')"
   ]
  },
  {
   "cell_type": "markdown",
   "id": "91e4b93d-49ba-43b6-ab87-411fcd574c28",
   "metadata": {},
   "source": [
    "We then simulate the circuit. We will use the `qasm_simulator` since the circuit contains measurements, but increase the number of shots to reduce the effect of sampling noise."
   ]
  },
  {
   "cell_type": "markdown",
   "id": "9f1f4410-84e2-41e2-a6b0-b2446595fdd6",
   "metadata": {},
   "source": [
    "## QuantumKernel"
   ]
  },
  {
   "cell_type": "code",
   "execution_count": 9,
   "id": "6110269e-24fc-494f-87fe-5bffacf72f89",
   "metadata": {
    "tags": []
   },
   "outputs": [
    {
     "name": "stdout",
     "output_type": "stream",
     "text": [
      " > Metadata: {'shots': 4000}\n",
      "Execution time:  1524.5866510868073\n",
      "Execution time:  1524.5867023468018\n"
     ]
    }
   ],
   "source": [
    "from qiskit.circuit.random import random_circuit\n",
    "from qiskit_ibm_runtime import QiskitRuntimeService, Session, Sampler, Options\n",
    "start_time = time.time()\n",
    "\n",
    "options = Options()\n",
    "options.optimization_level = 2\n",
    "options.resilience_level = 0\n",
    "\n",
    "service = QiskitRuntimeService()\n",
    "with Session(service=service, backend=\"ibmq_qasm_simulator\") as session:\n",
    "    #num_qubits = len(Counter(y))\n",
    "    zz_map = ZZFeatureMap(feature_dimension=n_feats, reps=2, entanglement='linear', insert_barriers=True)\n",
    "    zz_kernel = QuantumKernel(feature_map=zz_map,quantum_instance=Aer.get_backend(\"qasm_simulator\"))\n",
    "    zz_circuit = zz_kernel.construct_circuit(X_train[0], X_train[1])\n",
    "    \n",
    "    sampler = Sampler(session=session, options=options)\n",
    "    job = sampler.run(zz_circuit)\n",
    "    result = job.result()\n",
    "    \n",
    "#display(circuit.draw(\"mpl\"))\n",
    "#print(f\" > Quasi probability distribution: {result.quasi_dists[0]}\")\n",
    "print(f\" > Metadata: {result.metadata[0]}\")\n",
    "print(\"Execution time: \", time.time() - start_time)"
   ]
  },
  {
   "cell_type": "code",
   "execution_count": 8,
   "id": "0f456f9c-ba0f-4502-b535-89611dcece2d",
   "metadata": {
    "tags": []
   },
   "outputs": [
    {
     "name": "stdout",
     "output_type": "stream",
     "text": [
      "Traceback \u001b[1;36m(most recent call last)\u001b[0m:\n",
      "\u001b[1;36m  Cell \u001b[1;32mIn[8], line 6\u001b[1;36m\n",
      "\u001b[1;33m    print(f'Callable kernel classification test score: {zzcb_score}')\u001b[1;36m\n",
      "\u001b[1;31mNameError\u001b[0m\u001b[1;31m:\u001b[0m name 'zzcb_score' is not defined\n",
      "\n",
      "Use %tb to get the full traceback.\n"
     ]
    },
    {
     "data": {
      "text/html": [
       "\n",
       "<style>\n",
       ".button {\n",
       "  border: none;\n",
       "  color: white;\n",
       "  padding: 4px 8px;\n",
       "  text-align: center;\n",
       "  text-decoration: none;\n",
       "  display: inline-block;\n",
       "  font-size: 12px;\n",
       "  margin: 4px 2px;\n",
       "  transition-duration: 0.2s;\n",
       "  cursor: pointer;\n",
       "}\n",
       ".iqx-button {\n",
       "  background-color: #0f62fe; \n",
       "  color: white; \n",
       "}\n",
       ".iqx-button:hover {\n",
       "  background-color: #0043ce;\n",
       "  color: white;\n",
       "}\n",
       "</style>\n",
       "<a href=\"https://stackoverflow.com/search?q=NameError: name 'zzcb_score' is not defined\" target='_blank'><button class='button iqx-button'>Search for solution online</button></a>\n"
      ],
      "text/plain": [
       "<IPython.core.display.HTML object>"
      ]
     },
     "metadata": {},
     "output_type": "display_data"
    }
   ],
   "source": [
    "start_time = time.time()\n",
    "zzcb_svc = SVC(kernel=zz_kernel.evaluate)\n",
    "zzcb_svc.fit(X_train, y_train)\n",
    "zzcb_score = zzcb_svc.score(X_test, y_test)\n",
    "    \n",
    "print(f'Callable kernel classification test score: {zzcb_score}')\n",
    "print(\"Execution time: \", time.time() - start_time)"
   ]
  },
  {
   "cell_type": "markdown",
   "id": "d72b2c62-1cfa-4bfa-b557-f45c13c4857c",
   "metadata": {},
   "source": [
    "## FidelityQuantumKernel"
   ]
  },
  {
   "cell_type": "code",
   "execution_count": 6,
   "id": "fc0d45a4-0657-4412-a9d4-bf4a3f790376",
   "metadata": {
    "tags": []
   },
   "outputs": [
    {
     "name": "stdout",
     "output_type": "stream",
     "text": [
      "Execution time:  4.730088710784912\n"
     ]
    }
   ],
   "source": [
    "from qiskit.circuit.random import random_circuit\n",
    "from qiskit_ibm_runtime import QiskitRuntimeService, Session, Sampler, Options\n",
    "start_time = time.time()\n",
    "\n",
    "options = Options()\n",
    "options.optimization_level = 2\n",
    "options.resilience_level = 0\n",
    "\n",
    "service = QiskitRuntimeService()\n",
    "with Session(service=service, backend=\"ibmq_qasm_simulator\") as session:\n",
    "    \n",
    "    sampler = Sampler(session=session, options=options)\n",
    "    zz_map = ZZFeatureMap(feature_dimension=n_feats, reps=2, entanglement='linear', insert_barriers=True)\n",
    "    fidelity = ComputeUncompute(sampler=sampler)\n",
    "    zz_kernel = FidelityQuantumKernel(fidelity=fidelity, feature_map=zz_map)      \n",
    "   \n",
    "print(\"Execution time: \", time.time() - start_time)"
   ]
  },
  {
   "cell_type": "code",
   "execution_count": 7,
   "id": "6a6f9f63-31fa-48e3-9600-242727563e04",
   "metadata": {
    "tags": []
   },
   "outputs": [
    {
     "name": "stdout",
     "output_type": "stream",
     "text": [
      "Traceback \u001b[1;36m(most recent call last)\u001b[0m:\n",
      "\u001b[0m  Cell \u001b[0;32mIn[7], line 3\u001b[0m\n",
      "    zzcb_svc.fit(X_train, y_train)\u001b[0m\n",
      "\u001b[0m  File \u001b[0;32m/opt/conda/lib/python3.10/site-packages/sklearn/svm/_base.py:252\u001b[0m in \u001b[0;35mfit\u001b[0m\n",
      "    fit(X, y, sample_weight, solver_type, kernel, random_seed=seed)\u001b[0m\n",
      "\u001b[0m  File \u001b[0;32m/opt/conda/lib/python3.10/site-packages/sklearn/svm/_base.py:312\u001b[0m in \u001b[0;35m_dense_fit\u001b[0m\n",
      "    X = self._compute_kernel(X)\u001b[0m\n",
      "\u001b[0m  File \u001b[0;32m/opt/conda/lib/python3.10/site-packages/sklearn/svm/_base.py:513\u001b[0m in \u001b[0;35m_compute_kernel\u001b[0m\n",
      "    kernel = self.kernel(X, self.__Xfit)\u001b[0m\n",
      "\u001b[0m  File \u001b[0;32m/opt/conda/lib/python3.10/site-packages/qiskit_machine_learning/kernels/fidelity_quantum_kernel.py:105\u001b[0m in \u001b[0;35mevaluate\u001b[0m\n",
      "    kernel_matrix = self._get_symmetric_kernel_matrix(\u001b[0m\n",
      "\u001b[0m  File \u001b[0;32m/opt/conda/lib/python3.10/site-packages/qiskit_machine_learning/kernels/fidelity_quantum_kernel.py:196\u001b[0m in \u001b[0;35m_get_symmetric_kernel_matrix\u001b[0m\n",
      "    kernel_entries = self._get_kernel_entries(left_parameters, right_parameters)\u001b[0m\n",
      "\u001b[0m  File \u001b[0;32m/opt/conda/lib/python3.10/site-packages/qiskit_machine_learning/kernels/fidelity_quantum_kernel.py:218\u001b[0m in \u001b[0;35m_get_kernel_entries\u001b[0m\n",
      "    kernel_entries = np.real(job.result().fidelities)\u001b[0m\n",
      "\u001b[0m  File \u001b[0;32m/opt/conda/lib/python3.10/site-packages/qiskit/primitives/primitive_job.py:55\u001b[0m in \u001b[0;35mresult\u001b[0m\n",
      "    return self._future.result()\u001b[0m\n",
      "\u001b[0m  File \u001b[0;32m/opt/conda/lib/python3.10/concurrent/futures/_base.py:458\u001b[0m in \u001b[0;35mresult\u001b[0m\n",
      "    return self.__get_result()\u001b[0m\n",
      "\u001b[0m  File \u001b[0;32m/opt/conda/lib/python3.10/concurrent/futures/_base.py:403\u001b[0m in \u001b[0;35m__get_result\u001b[0m\n",
      "    raise self._exception\u001b[0m\n",
      "\u001b[0m  File \u001b[0;32m/opt/conda/lib/python3.10/concurrent/futures/thread.py:58\u001b[0m in \u001b[0;35mrun\u001b[0m\n",
      "    result = self.fn(*self.args, **self.kwargs)\u001b[0m\n",
      "\u001b[0m  File \u001b[0;32m/opt/conda/lib/python3.10/site-packages/qiskit/algorithms/state_fidelities/compute_uncompute.py:158\u001b[0m in \u001b[0;35m_run\u001b[0m\n",
      "    job = self._sampler.run(circuits=circuits, parameter_values=values, **opts.__dict__)\u001b[0m\n",
      "\u001b[0m  File \u001b[0;32m/opt/conda/lib/python3.10/site-packages/qiskit_ibm_runtime/sampler.py:155\u001b[0m in \u001b[0;35mrun\u001b[0m\n",
      "    return super().run(\u001b[0m\n",
      "\u001b[0m  File \u001b[0;32m/opt/conda/lib/python3.10/site-packages/qiskit/primitives/base/base_sampler.py:147\u001b[0m in \u001b[0;35mrun\u001b[0m\n",
      "    return self._run(\u001b[0m\n",
      "\u001b[0m  File \u001b[0;32m/opt/conda/lib/python3.10/site-packages/qiskit_ibm_runtime/sampler.py:227\u001b[0m in \u001b[0;35m_run\u001b[0m\n",
      "    return self._session.run(\u001b[0m\n",
      "\u001b[0m  File \u001b[0;32m/opt/conda/lib/python3.10/site-packages/qiskit_ibm_runtime/session.py:39\u001b[0m in \u001b[0;35m_wrapper\u001b[0m\n",
      "    return func(self, *args, **kwargs)\u001b[0m\n",
      "\u001b[0m  File \u001b[0;32m/opt/conda/lib/python3.10/site-packages/qiskit_ibm_runtime/session.py:182\u001b[0m in \u001b[0;35mrun\u001b[0m\n",
      "    job = self._service.run(\u001b[0m\n",
      "\u001b[1;36m  File \u001b[1;32m/opt/conda/lib/python3.10/site-packages/qiskit_ibm_runtime/qiskit_runtime_service.py:1022\u001b[1;36m in \u001b[1;35mrun\u001b[1;36m\n",
      "\u001b[1;33m    raise IBMRuntimeError(f\"Failed to run program: {ex}\") from None\u001b[1;36m\n",
      "\u001b[1;31mIBMRuntimeError\u001b[0m\u001b[1;31m:\u001b[0m \"Failed to run program: '413 Client Error: Payload Too Large for url: https://runtime-us-east.quantum-computing.ibm.com/jobs. Payload Too Large'\"\n",
      "\n",
      "Use %tb to get the full traceback.\n"
     ]
    },
    {
     "data": {
      "text/html": [
       "\n",
       "<style>\n",
       ".button {\n",
       "  border: none;\n",
       "  color: white;\n",
       "  padding: 4px 8px;\n",
       "  text-align: center;\n",
       "  text-decoration: none;\n",
       "  display: inline-block;\n",
       "  font-size: 12px;\n",
       "  margin: 4px 2px;\n",
       "  transition-duration: 0.2s;\n",
       "  cursor: pointer;\n",
       "}\n",
       ".iqx-button {\n",
       "  background-color: #0f62fe; \n",
       "  color: white; \n",
       "}\n",
       ".iqx-button:hover {\n",
       "  background-color: #0043ce;\n",
       "  color: white;\n",
       "}\n",
       "</style>\n",
       "<a href=\"https://stackoverflow.com/search?q=IBMRuntimeError: Failed to run program: '413 Client Error: Payload Too Large for url: https://runtime-us-east.quantum-computing.ibm.com/jobs. Payload Too Large'\" target='_blank'><button class='button iqx-button'>Search for solution online</button></a>\n"
      ],
      "text/plain": [
       "<IPython.core.display.HTML object>"
      ]
     },
     "metadata": {},
     "output_type": "display_data"
    }
   ],
   "source": [
    "start_time = time.time()\n",
    "zzcb_svc = SVC(kernel=zz_kernel.evaluate)\n",
    "zzcb_svc.fit(X_train, y_train)\n",
    "zzcb_score = zzcb_svc.score(X_test, y_test)\n",
    "    \n",
    "print(f'Callable kernel classification test score: {zzcb_score}')\n",
    "print(\"Execution time: \", time.time() - start_time)"
   ]
  },
  {
   "cell_type": "markdown",
   "id": "ff2bb451-7493-4bb7-bfdf-bc06d21b8a7f",
   "metadata": {},
   "source": [
    "Using SVC with the evaluated kernel is the same as using directly QSVC "
   ]
  },
  {
   "cell_type": "code",
   "execution_count": null,
   "id": "6ad24ef8-144e-4b34-802b-72f83ce29726",
   "metadata": {
    "tags": []
   },
   "outputs": [],
   "source": [
    "start_time = time.time()\n",
    "qsvc = QSVC(quantum_kernel=zz_kernel)\n",
    "qsvc.fit(X_train, y_train)\n",
    "qsvc_score = qsvc.score(X_test, y_test)\n",
    "\n",
    "print(f\"QSVC classification test score: {qsvc_score}\")\n",
    "print(\"Execution time: \", time.time() - start_time)"
   ]
  }
 ],
 "metadata": {
  "kernelspec": {
   "display_name": "Python 3 (ipykernel)",
   "language": "python",
   "name": "python3"
  },
  "language_info": {
   "codemirror_mode": {
    "name": "ipython",
    "version": 3
   },
   "file_extension": ".py",
   "mimetype": "text/x-python",
   "name": "python",
   "nbconvert_exporter": "python",
   "pygments_lexer": "ipython3",
   "version": "3.10.8"
  },
  "widgets": {
   "application/vnd.jupyter.widget-state+json": {
    "state": {},
    "version_major": 2,
    "version_minor": 0
   }
  }
 },
 "nbformat": 4,
 "nbformat_minor": 5
}
