{
 "cells": [
  {
   "cell_type": "code",
   "execution_count": 2,
   "id": "fcfcc58a-b2f6-479c-be97-2451601a64ed",
   "metadata": {
    "tags": []
   },
   "outputs": [],
   "source": [
    "# General Imports\n",
    "import numpy as np\n",
    "import pandas as pd\n",
    "from collections import Counter\n",
    "\n",
    "# Visualisation Imports\n",
    "import matplotlib.pyplot as plt\n",
    "\n",
    "# Scikit Imports\n",
    "from sklearn import datasets\n",
    "from sklearn.model_selection import train_test_split\n",
    "from sklearn.svm import SVC\n",
    "from sklearn.decomposition import PCA\n",
    "from sklearn.preprocessing import StandardScaler, MinMaxScaler\n",
    "\n",
    "# Qiskit Imports\n",
    "from qiskit import Aer, execute\n",
    "from qiskit.circuit import QuantumCircuit, Parameter, ParameterVector\n",
    "from qiskit.circuit.library import PauliFeatureMap, ZFeatureMap, ZZFeatureMap\n",
    "from qiskit.circuit.library import TwoLocal, NLocal, RealAmplitudes, EfficientSU2\n",
    "from qiskit.circuit.library import HGate, RXGate, RYGate, RZGate, CXGate, CRXGate, CRZGate\n",
    "from qiskit_machine_learning.kernels import QuantumKernel\n",
    "from qiskit_machine_learning.algorithms import QSVC\n",
    "\n",
    "from ipynb.fs.full.EDA import vowelData\n",
    "from ipynb.fs.full.EDA import irisData\n",
    "from ipynb.fs.full.EDA import breastcancerData"
   ]
  },
  {
   "cell_type": "code",
   "execution_count": 3,
   "id": "2f1e95e1-6de0-41cf-84c9-cb923658d969",
   "metadata": {
    "tags": []
   },
   "outputs": [],
   "source": [
    "#call one of the function to load the dataset\n",
    "#df_, x ,y = vowelData ()\n",
    "#df_, x ,y = irisData ()\n",
    "df_, x ,y = breastcancerData()\n"
   ]
  },
  {
   "cell_type": "code",
   "execution_count": 4,
   "id": "1bc9f841",
   "metadata": {},
   "outputs": [],
   "source": [
    "X_train, X_test, y_train, y_test = train_test_split(x, y, test_size=0.2, random_state=42)\n",
    "X_train = np.array(X_train)[:5]\n",
    "X_test = np.array(X_test)[:1]\n",
    "y_train = np.array(y_train)[:5]\n",
    "y_test = np.array(y_test)[:1]\n",
    "num_qubits = x.shape[1]"
   ]
  },
  {
   "attachments": {},
   "cell_type": "markdown",
   "id": "b4b0bb71-e44a-4515-9670-a54c79d90892",
   "metadata": {},
   "source": [
    "With our training and testing datasets ready, we set up the QuantumKernel class with the ZZFeatureMap, and use the BasicAer statevector_simulator to estimate the training and testing kernel matrices."
   ]
  },
  {
   "cell_type": "code",
   "execution_count": 8,
   "id": "9bd7ca49-5d18-408f-8556-82c4cc054899",
   "metadata": {
    "tags": []
   },
   "outputs": [],
   "source": [
    "zz_map = ZZFeatureMap(feature_dimension=num_qubits, reps=2, entanglement='linear', insert_barriers=True)\n",
    "\n",
    "zz_kernel = QuantumKernel(feature_map=zz_map, quantum_instance=Aer.get_backend('statevector_simulator'))"
   ]
  },
  {
   "attachments": {},
   "cell_type": "markdown",
   "id": "8042f8b0-6fe1-4b09-8acf-f9e9df7954c8",
   "metadata": {},
   "source": [
    "Let's calculate the transition amplitude between the first and second training data samples, one of the entries in the training kernel matrix."
   ]
  },
  {
   "attachments": {},
   "cell_type": "markdown",
   "id": "75003d71-a3b3-4ce2-885b-fa20b75a9656",
   "metadata": {},
   "source": [
    "Let's createe a circuit for the first sample and try to simulate"
   ]
  },
  {
   "cell_type": "code",
   "execution_count": 9,
   "id": "0bae43cc-a1e7-45d2-a9c9-95432641f476",
   "metadata": {
    "tags": []
   },
   "outputs": [],
   "source": [
    "zz_circuit = zz_kernel.construct_circuit(X_train[0], X_train[1])\n",
    "#zz_circuit.decompose().decompose().draw(output='mpl')"
   ]
  },
  {
   "attachments": {},
   "cell_type": "markdown",
   "id": "91e4b93d-49ba-43b6-ab87-411fcd574c28",
   "metadata": {},
   "source": [
    "We then simulate the circuit. We will use the `qasm_simulator` since the circuit contains measurements, but increase the number of shots to reduce the effect of sampling noise."
   ]
  },
  {
   "cell_type": "code",
   "execution_count": 10,
   "id": "fc0d45a4-0657-4412-a9d4-bf4a3f790376",
   "metadata": {
    "tags": []
   },
   "outputs": [
    {
     "ename": "QiskitError",
     "evalue": "'No counts for experiment \"<qiskit.circuit.quantumcircuit.QuantumCircuit object at 0x1621f88b0>\"'",
     "output_type": "error",
     "traceback": [
      "\u001b[0;31m---------------------------------------------------------------------------\u001b[0m",
      "\u001b[0;31mQiskitError\u001b[0m                               Traceback (most recent call last)",
      "\u001b[1;32m/Users/isabelmariaadrovercabot/Desktop/Master_DataScience/Year_1/Period_6/Quantum_project/quantum_anomalyDetection/Classical/quantumSVM.ipynb Celda 10\u001b[0m in \u001b[0;36m<cell line: 4>\u001b[0;34m()\u001b[0m\n\u001b[1;32m      <a href='vscode-notebook-cell:/Users/isabelmariaadrovercabot/Desktop/Master_DataScience/Year_1/Period_6/Quantum_project/quantum_anomalyDetection/Classical/quantumSVM.ipynb#X13sZmlsZQ%3D%3D?line=0'>1</a>\u001b[0m backend \u001b[39m=\u001b[39m Aer\u001b[39m.\u001b[39mget_backend(\u001b[39m'\u001b[39m\u001b[39mstatevector_simulator\u001b[39m\u001b[39m'\u001b[39m)\n\u001b[1;32m      <a href='vscode-notebook-cell:/Users/isabelmariaadrovercabot/Desktop/Master_DataScience/Year_1/Period_6/Quantum_project/quantum_anomalyDetection/Classical/quantumSVM.ipynb#X13sZmlsZQ%3D%3D?line=1'>2</a>\u001b[0m job \u001b[39m=\u001b[39m execute(zz_circuit, backend, shots\u001b[39m=\u001b[39m\u001b[39m4000\u001b[39m, \n\u001b[1;32m      <a href='vscode-notebook-cell:/Users/isabelmariaadrovercabot/Desktop/Master_DataScience/Year_1/Period_6/Quantum_project/quantum_anomalyDetection/Classical/quantumSVM.ipynb#X13sZmlsZQ%3D%3D?line=2'>3</a>\u001b[0m               seed_simulator\u001b[39m=\u001b[39m\u001b[39m1024\u001b[39m, seed_transpiler\u001b[39m=\u001b[39m\u001b[39m1024\u001b[39m)\n\u001b[0;32m----> <a href='vscode-notebook-cell:/Users/isabelmariaadrovercabot/Desktop/Master_DataScience/Year_1/Period_6/Quantum_project/quantum_anomalyDetection/Classical/quantumSVM.ipynb#X13sZmlsZQ%3D%3D?line=3'>4</a>\u001b[0m counts \u001b[39m=\u001b[39m job\u001b[39m.\u001b[39;49mresult()\u001b[39m.\u001b[39;49mget_counts(zz_circuit)\n",
      "File \u001b[0;32m~/opt/anaconda3/lib/python3.9/site-packages/qiskit/result/result.py:289\u001b[0m, in \u001b[0;36mResult.get_counts\u001b[0;34m(self, experiment)\u001b[0m\n\u001b[1;32m    287\u001b[0m         dict_list\u001b[39m.\u001b[39mappend(statevector\u001b[39m.\u001b[39mStatevector(vec)\u001b[39m.\u001b[39mprobabilities_dict(decimals\u001b[39m=\u001b[39m\u001b[39m15\u001b[39m))\n\u001b[1;32m    288\u001b[0m     \u001b[39melse\u001b[39;00m:\n\u001b[0;32m--> 289\u001b[0m         \u001b[39mraise\u001b[39;00m QiskitError(\u001b[39mf\u001b[39m\u001b[39m'\u001b[39m\u001b[39mNo counts for experiment \u001b[39m\u001b[39m\"\u001b[39m\u001b[39m{\u001b[39;00m\u001b[39mrepr\u001b[39m(key)\u001b[39m}\u001b[39;00m\u001b[39m\"\u001b[39m\u001b[39m'\u001b[39m)\n\u001b[1;32m    291\u001b[0m \u001b[39m# Return first item of dict_list if size is 1\u001b[39;00m\n\u001b[1;32m    292\u001b[0m \u001b[39mif\u001b[39;00m \u001b[39mlen\u001b[39m(dict_list) \u001b[39m==\u001b[39m \u001b[39m1\u001b[39m:\n",
      "\u001b[0;31mQiskitError\u001b[0m: 'No counts for experiment \"<qiskit.circuit.quantumcircuit.QuantumCircuit object at 0x1621f88b0>\"'"
     ]
    }
   ],
   "source": [
    "from qiskit.circuit.random import random_circuit\n",
    "from qiskit_ibm_runtime import QiskitRuntimeService, Session, Sampler, Options\n",
    "\n",
    "\n",
    "options = Options()\n",
    "options.optimization_level = 2\n",
    "options.resilience_level = 0\n",
    "\n",
    "service = QiskitRuntimeService()\n",
    "with Session(service=service, backend=\"ibmq_qasm_simulator\") as session:\n",
    "    #num_qubits = len(Counter(y))\n",
    "    zz_map = ZZFeatureMap(feature_dimension=30, reps=2, entanglement='linear', insert_barriers=True)\n",
    "    zz_kernel = QuantumKernel(feature_map=zz_map,quantum_instance=Aer.get_backend(\"qasm_simulator\"))\n",
    "    zz_circuit = zz_kernel.construct_circuit(X_train[0], X_train[1])\n",
    "    \n",
    "    sampler = Sampler(session=session, options=options)\n",
    "    job = sampler.run(zz_circuit)\n",
    "    result = job.result()\n",
    "    \n",
    "    \n",
    "    \n",
    "#display(circuit.draw(\"mpl\"))\n",
    "#print(f\" > Quasi probability distribution: {result.quasi_dists[0]}\")\n",
    "print(f\" > Metadata: {result.metadata[0]}\")"
   ]
  },
  {
   "cell_type": "code",
   "execution_count": 11,
   "id": "0f456f9c-ba0f-4502-b535-89611dcece2d",
   "metadata": {
    "tags": []
   },
   "outputs": [],
   "source": [
    "zzcb_svc = SVC(kernel=zz_kernel.evaluate)\n",
    "zzcb_svc.fit(X_train, y_train)\n",
    "zzcb_score = zzcb_svc.score(X_test, y_test)\n",
    "\n",
    "print(f'Callable kernel classification test score: {zzcb_score}')"
   ]
  },
  {
   "cell_type": "code",
   "execution_count": 40,
   "id": "6ad24ef8-144e-4b34-802b-72f83ce29726",
   "metadata": {
    "tags": []
   },
   "outputs": [
    {
     "name": "stdout",
     "output_type": "stream",
     "text": [
      "QSVC classification test score: 0.3787878787878788\n"
     ]
    }
   ],
   "source": [
    "qsvc = QSVC(quantum_kernel=zz_kernel)\n",
    "qsvc.fit(X_train, y_train)\n",
    "qsvc_score = qsvc.score(X_test, y_test)\n",
    "\n",
    "print(f\"QSVC classification test score: {qsvc_score}\")"
   ]
  },
  {
   "cell_type": "code",
   "execution_count": null,
   "id": "a01cdd8f-0726-4ed5-b5be-bb0b8a9b41d3",
   "metadata": {},
   "outputs": [],
   "source": []
  }
 ],
 "metadata": {
  "kernelspec": {
   "display_name": "Python 3 (ipykernel)",
   "language": "python",
   "name": "python3"
  },
  "language_info": {
   "codemirror_mode": {
    "name": "ipython",
    "version": 3
   },
   "file_extension": ".py",
   "mimetype": "text/x-python",
   "name": "python",
   "nbconvert_exporter": "python",
   "pygments_lexer": "ipython3",
   "version": "3.9.13"
  },
  "widgets": {
   "application/vnd.jupyter.widget-state+json": {
    "state": {},
    "version_major": 2,
    "version_minor": 0
   }
  }
 },
 "nbformat": 4,
 "nbformat_minor": 5
}
