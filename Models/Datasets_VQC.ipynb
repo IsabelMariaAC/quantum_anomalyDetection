{
  "cells": [
    {
      "cell_type": "markdown",
      "id": "hzNHt5tgAYq-",
      "metadata": {
        "id": "hzNHt5tgAYq-"
      },
      "source": [
        "#Basic Imports"
      ]
    },
    {
      "cell_type": "code",
      "execution_count": 22,
      "id": "96885fad",
      "metadata": {
        "id": "96885fad"
      },
      "outputs": [],
      "source": [
        "# Essential Libraries\n",
        "import numpy as np\n",
        "import pandas as pd\n",
        "from collections import Counter\n",
        "\n",
        "# Scikit-Learn: Datasets\n",
        "from sklearn.datasets import load_iris, load_breast_cancer\n",
        "\n",
        "# Scikit-Learn: Data Preprocessing\n",
        "from sklearn.preprocessing import StandardScaler, MinMaxScaler, RobustScaler\n",
        "from sklearn.preprocessing import OneHotEncoder\n",
        "encoder = OneHotEncoder\n",
        "\n",
        "# Scikit-Learn: Model Selection\n",
        "from sklearn.model_selection import train_test_split\n",
        "\n",
        "# Scikit-Learn: Support Vector Machine\n",
        "from sklearn.svm import SVC\n",
        "\n",
        "# Scikit-Learn: Dimensionality Reduction\n",
        "from sklearn.decomposition import PCA\n",
        "\n",
        "# Scikit-Learn: Metrics\n",
        "from sklearn.metrics import classification_report, roc_curve, auc\n",
        "from sklearn.metrics import precision_recall_curve\n",
        "from sklearn.metrics import f1_score\n",
        "\n",
        "# Qiskit: Installation\n",
        "# !pip install -q qiskit qiskit-machine-learning\n",
        "\n",
        "# Qiskit: Basic Functionality\n",
        "from qiskit import Aer, execute, BasicAer\n",
        "\n",
        "# Qiskit: Circuit\n",
        "from qiskit.circuit import QuantumCircuit, Parameter, ParameterVector\n",
        "\n",
        "# Qiskit: Circuit Library\n",
        "from qiskit.circuit.library import (PauliFeatureMap, ZFeatureMap, ZZFeatureMap,\n",
        "                                    TwoLocal, NLocal, RealAmplitudes, EfficientSU2,\n",
        "                                    HGate, RXGate, RYGate, RZGate, CXGate, CRXGate, CRZGate)\n",
        "\n",
        "# Qiskit: Machine Learning\n",
        "from qiskit_machine_learning.kernels import QuantumKernel\n",
        "from qiskit.algorithms.optimizers import SPSA, SLSQP, COBYLA\n",
        "from qiskit_machine_learning.algorithms import VQC\n",
        "from qiskit.utils import QuantumInstance, algorithm_globals\n",
        "\n",
        "# Data Visualization Libraries\n",
        "import matplotlib.pyplot as plt\n",
        "import seaborn as sns\n"
      ]
    },
    {
      "cell_type": "markdown",
      "id": "4S3JEB-EATJ-",
      "metadata": {
        "id": "4S3JEB-EATJ-"
      },
      "source": [
        "# Functions to Load the Datasets"
      ]
    },
    {
      "cell_type": "code",
      "execution_count": 4,
      "id": "LT3uGWhdAjAC",
      "metadata": {
        "id": "LT3uGWhdAjAC",
        "colab": {
          "base_uri": "https://localhost:8080/"
        },
        "outputId": "e3fa3a4e-1260-41bf-dfe1-cf111708b21d"
      },
      "outputs": [
        {
          "output_type": "stream",
          "name": "stdout",
          "text": [
            "Mounted at /content/drive\n"
          ]
        }
      ],
      "source": [
        "# For working in google_colab\n",
        "from google.colab import drive\n",
        "drive.mount('/content/drive')\n",
        "\n",
        "# Add the folder to your google drive account to run it and change the directory path.\n",
        "# LINK of Datasets: https://drive.google.com/drive/folders/12K1jIqNfU_yVOSdn_pqOX9kIVAgLRFPg?usp=sharing\n",
        "\n",
        "import os\n",
        "# Save all datasets\n",
        "directory_path = \"/content/drive/MyDrive/KPCA_PCA/datasets/\"\n",
        "dataset_ex = ['.csv', '.data', '.mat', '.xls' ]\n",
        "datasets = [f for f in os.listdir(directory_path)]# if ( f.endswith('.data') or f.endswith('.csv') or f.endswith('.mat') or f.endswith('.xls')) and f not in dataset_ex]\n",
        "datasets\n",
        "\n",
        "#read dataset and set the name of the columns\n",
        "def vowelData ():\n",
        "    name = 'vowel'\n",
        "\n",
        "    vowel = arff.loadarff(directory_path+\"vowels\")\n",
        "\n",
        "    vowel_data = pd.DataFrame(vowel[0])\n",
        "    vowel_data.columns = ['feature{}'.format(i) for i in range(0,vowel_data.shape[1])]\n",
        "\n",
        "    vowel_data = vowel_data.drop_duplicates()\n",
        "    vowel_data.reset_index(drop=True,inplace=True)\n",
        "\n",
        "    mappings = {}\n",
        "    count = 0\n",
        "    for i in list(Counter(vowel_data['feature12']).keys()):\n",
        "        mappings[i] = count\n",
        "        count = count +1\n",
        "\n",
        "    mappings_users = {}\n",
        "    count_users = 0\n",
        "    for i in list(Counter(vowel_data['feature0']).keys()):\n",
        "        mappings_users[i] = count_users\n",
        "        count_users = count_users +1\n",
        "\n",
        "    vowel_data.feature12 = vowel_data.feature12.fillna('nan').apply(lambda x: mappings[x])\n",
        "    vowel_data.feature0 = vowel_data.feature0.fillna('nan').apply(lambda x: mappings_users[x])\n",
        "    vowel_data.feature1 = vowel_data.feature1.fillna('nan').apply(lambda x: {b'Male':0,b'Female':1}[x])\n",
        "\n",
        "    return vowel_data, vowel_data.drop(columns='feature12'),vowel_data.feature12"
      ]
    },
    {
      "cell_type": "code",
      "execution_count": 5,
      "id": "U0J3dxHTAleR",
      "metadata": {
        "id": "U0J3dxHTAleR"
      },
      "outputs": [],
      "source": [
        "def irisData ():\n",
        "    name = 'iris'\n",
        "    iris = load_iris()\n",
        "\n",
        "\n",
        "    iris_dataset = pd.DataFrame(data=iris, columns=iris.feature_names)\n",
        "\n",
        "    iris_dataset = iris_dataset.drop_duplicates()\n",
        "    iris_dataset.reset_index(drop=True,inplace=True)\n",
        "\n",
        "    iris_dataset.columns = ['feature{}'.format(i) for i in range(0,iris_dataset.shape[1])]\n",
        "\n",
        "    dataset = pd.DataFrame(iris.data).assign(target=iris.target)\n",
        "\n",
        "    return dataset, iris.data, iris.target"
      ]
    },
    {
      "cell_type": "code",
      "execution_count": 6,
      "id": "G5JgD5EPAnhi",
      "metadata": {
        "id": "G5JgD5EPAnhi"
      },
      "outputs": [],
      "source": [
        "def breastcancerData():\n",
        "    name = 'breast_cancer'\n",
        "    breast_cancer = load_breast_cancer()\n",
        "    breast_cancerData = pd.DataFrame(data=breast_cancer, columns=breast_cancer.feature_names)\n",
        "\n",
        "    breast_cancerData = breast_cancerData.drop_duplicates()\n",
        "    breast_cancerData.reset_index(drop=True,inplace=True)\n",
        "\n",
        "    breast_cancerData.columns = ['feature{}'.format(i) for i in range(0,breast_cancerData.shape[1])]\n",
        "\n",
        "    dataset = pd.DataFrame(breast_cancer.data).assign(target=breast_cancer.target)\n",
        "\n",
        "    return dataset, breast_cancer.data, breast_cancer.target"
      ]
    },
    {
      "cell_type": "code",
      "source": [
        "from qiskit_machine_learning.datasets import ad_hoc_data\n",
        "\n",
        "def adhoc():\n",
        "  n_features = 2\n",
        "  x, y, test_features, test_labels, adhoc_total = ad_hoc_data(\n",
        "      training_size=500,\n",
        "      test_size=5,\n",
        "      n=n_features,\n",
        "      gap=0.3,\n",
        "      plot_data=False,\n",
        "      one_hot=False,\n",
        "      include_sample_total=True,\n",
        "  )\n",
        "  adhoc_dataset = pd.DataFrame(x).assign(target=y)\n",
        "\n",
        "  return adhoc_dataset, x, y"
      ],
      "metadata": {
        "id": "1h-A50FyK-Ib"
      },
      "id": "1h-A50FyK-Ib",
      "execution_count": 7,
      "outputs": []
    },
    {
      "cell_type": "markdown",
      "id": "s7ssAHSoB1bM",
      "metadata": {
        "id": "s7ssAHSoB1bM"
      },
      "source": [
        "# Basic Functions\n",
        "\n"
      ]
    },
    {
      "cell_type": "code",
      "execution_count": 8,
      "id": "DbQRHJWhB3J7",
      "metadata": {
        "id": "DbQRHJWhB3J7"
      },
      "outputs": [],
      "source": [
        "def split_TestTrain_normalize(x,y):\n",
        "    # Train test split\n",
        "    X_train, X_test, y_train, y_test = train_test_split(x, y, test_size=0.3, random_state=43,stratify=y)\n",
        "\n",
        "        # Check the number of records\n",
        "    print('The number of records in the training dataset is', X_train.shape[0])\n",
        "    print('The number of records in the test dataset is', X_test.shape[0])\n",
        "    print(Counter(y_train))\n",
        "\n",
        "    # Assuming your dataset is a 2D array or a pandas DataFrame\n",
        "    # Initialize the scaler\n",
        "    #scaler = StandardScaler()\n",
        "    #scaler = MinMaxScaler()\n",
        "    scaler = RobustScaler()\n",
        "\n",
        "    X_train = scaler.fit_transform(X_train)\n",
        "    X_test = scaler.transform(X_test)\n",
        "\n",
        "    return X_train, X_test, y_train, y_test"
      ]
    },
    {
      "cell_type": "code",
      "execution_count": 9,
      "id": "I9dDzMaiB7jh",
      "metadata": {
        "id": "I9dDzMaiB7jh"
      },
      "outputs": [],
      "source": [
        "def split_inandout(outlier,inlier,target, df_,frac_out):\n",
        "\n",
        "    df = df_.copy()\n",
        "    #class_label = target\n",
        "    out_classes = pd.DataFrame()\n",
        "    #Select the class you want to be outlier\n",
        "    for out in outlier:\n",
        "        out_class = out\n",
        "        outliers_samples = df[df.target == out_class]\n",
        "        outliers_samples = outliers_samples.sample(frac = frac_out)\n",
        "        out_classes = pd.concat([out_classes, outliers_samples], ignore_index=False).sort_index()\n",
        "        #print(out_classes.shape)\n",
        "\n",
        "    #print(out_classes.shape)\n",
        "    in_class = inlier\n",
        "    df = df_.copy()\n",
        "    inlier_samples = df[df.target == in_class]\n",
        "\n",
        "    # Concatenate the modified outliers samples with the original inlier samples\n",
        "    y = pd.concat([inlier_samples.target, out_classes.target], ignore_index=False).sort_index()\n",
        "    y =[1 if i==inlier else 0 for i in y]\n",
        "    print(Counter(y))\n",
        "    x = pd.concat([inlier_samples.drop(columns=target), out_classes.drop(columns=target)], ignore_index=False).sort_index()\n",
        "\n",
        "    return x,y"
      ]
    },
    {
      "cell_type": "markdown",
      "id": "hw3-38q2J1D3",
      "metadata": {
        "id": "hw3-38q2J1D3"
      },
      "source": [
        "#Evaluation Functions"
      ]
    },
    {
      "cell_type": "code",
      "execution_count": 10,
      "id": "i5Mx7evfJ0Xe",
      "metadata": {
        "id": "i5Mx7evfJ0Xe"
      },
      "outputs": [],
      "source": [
        "def eval_recall(predicted_labels,label_test):\n",
        "    preds = predicted_labels\n",
        "\n",
        "    labels = label_test\n",
        "    #calculate precision and recall\n",
        "    precision, recall, thresholds = precision_recall_curve(labels, preds)\n",
        "\n",
        "    #create precision recall curve\n",
        "    fig, ax = plt.subplots()\n",
        "    ax.plot(recall, precision, color='purple')\n",
        "\n",
        "    #add axis labels to plot\n",
        "    ax.set_title('Precision-Recall Curve')\n",
        "    ax.set_ylabel('Precision')\n",
        "    ax.set_xlabel('Recall')\n",
        "\n",
        "    #display plot\n",
        "    plt.show()\n",
        "\n",
        "def eval_roc(sample_train,sample_test,train_prediction,predicted_labels):\n",
        "    train_fpr, train_tpr, tr_thresholds = roc_curve(sample_train, train_prediction)\n",
        "    test_fpr, test_tpr, te_thresholds = roc_curve(sample_test, predicted_labels)\n",
        "\n",
        "    plt.grid()\n",
        "    plt.plot(train_fpr, train_tpr, label=\" AUC TRAIN =\"+str(auc(train_fpr, train_tpr)))\n",
        "    plt.plot(test_fpr, test_tpr, label=\" AUC TEST =\"+str(auc(test_fpr, test_tpr)))\n",
        "    plt.plot([0,1],[0,1],'g--')\n",
        "    plt.legend()\n",
        "    plt.xlabel(\"False Positive Rate\")\n",
        "    plt.ylabel(\"True Positive Rate\")\n",
        "    plt.title(\"AUC(ROC curve)\")\n",
        "    plt.grid(color='black', linestyle='-', linewidth=0.5)\n",
        "    plt.show()\n",
        "\n",
        "def scatterPlot(X_test,y_test,test_prediction,feature1,feature2):\n",
        "# Put the testing dataset and predictions in the same dataframe\n",
        "    X_test_ = X_test.copy()\n",
        "    y_test_ = y_test.copy()\n",
        "    df_test = pd.DataFrame(X_test_)\n",
        "    df_test['y_test'] = np.array(y_test_)\n",
        "    df_test['one_class_prediction'] = test_prediction\n",
        "    # Visualize the actual and predicted anomalies\n",
        "    fig, ax = plt.subplots(figsize=(8, 6))\n",
        "\n",
        "    # Well-classified samples\n",
        "    well_classified = df_test[df_test['y_test'] == df_test['one_class_prediction']]\n",
        "    ax.scatter(well_classified[feature1], well_classified[feature2], c='green', label='Well Classified')\n",
        "\n",
        "    # Wrongly classified samples\n",
        "    wrong_classified = df_test[df_test['y_test'] != df_test['one_class_prediction']]\n",
        "    ax.scatter(wrong_classified[feature1], wrong_classified[feature2], c='red', label='Wrong Classification')\n",
        "\n",
        "    ax.set_xlabel('Feature 1')\n",
        "    ax.set_ylabel('Feature 2')\n",
        "    ax.set_title('Well Classified vs Wrong Classification')\n",
        "    ax.legend()\n",
        "\n",
        "    plt.show()"
      ]
    },
    {
      "cell_type": "markdown",
      "id": "EwCk0kXNMXvB",
      "metadata": {
        "id": "EwCk0kXNMXvB"
      },
      "source": [
        "# Functions to train the VQC"
      ]
    },
    {
      "cell_type": "code",
      "execution_count": 13,
      "id": "uU8it_m4McFS",
      "metadata": {
        "id": "uU8it_m4McFS"
      },
      "outputs": [],
      "source": [
        "import warnings\n",
        "import time\n",
        "# Filter out the specific warning messages\n",
        "warnings.filterwarnings(\"ignore\", category=DeprecationWarning)\n",
        "warnings.filterwarnings(\"ignore\", category=FutureWarning)\n",
        "\n",
        "def train_vqc(X_train,y_train,X_test,y_test,n_layers,ansatz,f_map,optim):\n",
        "    seed = 1024\n",
        "    simulator = BasicAer.get_backend('statevector_simulator')\n",
        "\n",
        "    quantum_instance = QuantumInstance(simulator,\n",
        "                                   shots=8192,\n",
        "                                   seed_simulator=seed,\n",
        "                                   seed_transpiler=seed)\n",
        "    vqc = VQC(feature_map=feature_map,\n",
        "                          ansatz=ansatz,\n",
        "                          optimizer=optimizer,\n",
        "                          quantum_instance=quantum_instance)\n",
        "\n",
        "    # Start the timer\n",
        "    start_time = time.time()\n",
        "    # Train the classifier\n",
        "    vqc.fit(X_train, y_train)\n",
        "    # Stop the timer and calculate the elapsed time\n",
        "    elapsed_time = time.time() - start_time\n",
        "\n",
        "    # Evaluate the classifier\n",
        "    score = vqc.score(X_test, y_test)\n",
        "    print(f\"Time taken: {elapsed_time:.3f} seconds\")\n",
        "    print(f\"Testing accuracy: {score:0.3f}\")\n",
        "\n",
        "    predicted_labels = vqc.predict(X_test)\n",
        "    print(\"Predicted: \\n\",predicted_labels)\n",
        "    print(\"True: \\n\", y_test)\n",
        "\n",
        "    report = classification_report(y_test, predicted_labels)\n",
        "    print(report)\n",
        "\n",
        "    train_prediction = vqc.predict(X_train)\n",
        "    # print(train_prediction)\n",
        "\n",
        "    scatterPlot(X_test,y_test,predicted_labels,0,1)\n",
        "    eval_recall(predicted_labels,y_test)\n",
        "    eval_roc(y_train,y_test,train_prediction,predicted_labels)\n",
        "    print(f1_score(y_test, predicted_labels))\n",
        "    print(\"==================================\\n\")"
      ]
    },
    {
      "cell_type": "markdown",
      "id": "hwSJq3V4Bqxg",
      "metadata": {
        "id": "hwSJq3V4Bqxg"
      },
      "source": [
        "# Iris"
      ]
    },
    {
      "cell_type": "code",
      "execution_count": null,
      "id": "Y9wCG6HYBsJe",
      "metadata": {
        "colab": {
          "base_uri": "https://localhost:8080/"
        },
        "id": "Y9wCG6HYBsJe",
        "outputId": "f07af760-da77-4bbf-c02c-429d3b73eb0e"
      },
      "outputs": [
        {
          "name": "stdout",
          "output_type": "stream",
          "text": [
            "The dataset selected has shape: (150, 5) and for each class Counter({0: 50, 1: 50, 2: 50})\n"
          ]
        }
      ],
      "source": [
        "dataset_iris, x ,y = irisData ()\n",
        "n_dim = x.shape[1]\n",
        "target = 'target'\n",
        "print(\"The dataset selected has shape: \" + str(dataset_iris.shape) + \" and for each class \"+ str(Counter(dataset_iris[target])))"
      ]
    },
    {
      "cell_type": "code",
      "execution_count": null,
      "id": "QxYL8SDEBuL1",
      "metadata": {
        "colab": {
          "base_uri": "https://localhost:8080/"
        },
        "id": "QxYL8SDEBuL1",
        "outputId": "9e3cad67-7cbe-466d-af8a-702f72f7accf"
      },
      "outputs": [
        {
          "name": "stdout",
          "output_type": "stream",
          "text": [
            "Counter({1: 50, 0: 10})\n",
            "The number of records in the training dataset is 42\n",
            "The number of records in the test dataset is 18\n",
            "Counter({1: 35, 0: 7})\n"
          ]
        }
      ],
      "source": [
        "out_class = [0,2]\n",
        "in_class = 1\n",
        "\n",
        "x_,y_ = split_inandout(out_class,in_class,target,dataset_iris,0.1)\n",
        "# y_ = np.where(y_ == 1, 1, 0)\n",
        "X_train, X_test, y_train, y_test = split_TestTrain_normalize(x_,y_)"
      ]
    },
    {
      "cell_type": "code",
      "execution_count": null,
      "id": "POR7qfqICJi_",
      "metadata": {
        "colab": {
          "base_uri": "https://localhost:8080/",
          "height": 391
        },
        "id": "POR7qfqICJi_",
        "outputId": "c78a10c2-f397-4e43-fb65-b0b32fe58f8a"
      },
      "outputs": [
        {
          "data": {
            "image/png": "[encoded data removed]",
            "text/plain": [
              "<Figure size 800x400 with 2 Axes>"
            ]
          },
          "metadata": {},
          "output_type": "display_data"
        }
      ],
      "source": [
        "fig, ax = plt.subplots(1,2, figsize=(8,4))\n",
        "\n",
        "ax[0].hist(y_train)\n",
        "ax[0].set_title(\"Train labels\")\n",
        "ax[1].hist(y_test)\n",
        "ax[1].set_title(\"Test labels\")\n",
        "plt.show()"
      ]
    },
    {
      "cell_type": "code",
      "source": [
        "n_dim = X_train.shape[1]\n",
        "y_train = np.array(y_train)[:, np.newaxis]\n",
        "y_test = np.array(y_test)[:, np.newaxis]\n",
        "print(X_test.shape,\n",
        "y_test.shape,\n",
        "X_train.shape,\n",
        "y_train.shape)"
      ],
      "metadata": {
        "id": "c3gHv6muwYwj"
      },
      "id": "c3gHv6muwYwj",
      "execution_count": null,
      "outputs": []
    },
    {
      "cell_type": "markdown",
      "id": "UIKbGLjlA0Kb",
      "metadata": {
        "id": "UIKbGLjlA0Kb"
      },
      "source": [
        "# Vowels"
      ]
    },
    {
      "cell_type": "code",
      "source": [
        "vowelDataset, x ,y = vowelData ()\n",
        "vowelDataset = vowelDataset.rename(columns={'feature12':'target'})\n",
        "n_dim = x.shape[1]\n",
        "target = 'target'\n",
        "print(\"The dataset selected has shape: \" + str(vowelDataset.shape) + \" and for each class \"+ str(Counter(vowelDataset[target])))"
      ],
      "metadata": {
        "colab": {
          "base_uri": "https://localhost:8080/"
        },
        "id": "LRJeGh40r--7",
        "outputId": "2bb781c5-a838-439c-a344-2427d587f7fd"
      },
      "id": "LRJeGh40r--7",
      "execution_count": null,
      "outputs": [
        {
          "output_type": "stream",
          "name": "stdout",
          "text": [
            "The dataset selected has shape: (990, 13) and for each class Counter({0: 90, 1: 90, 2: 90, 3: 90, 4: 90, 5: 90, 6: 90, 7: 90, 8: 90, 9: 90, 10: 90})\n"
          ]
        }
      ]
    },
    {
      "cell_type": "code",
      "source": [
        "out_class = [0,5,6,7,9]\n",
        "in_class = 1\n",
        "x_,y_ = split_inandout(out_class,in_class,target,vowelDataset,0.05)\n",
        "X_train, X_test, y_train, y_test = split_TestTrain_normalize(x_,y_)"
      ],
      "metadata": {
        "colab": {
          "base_uri": "https://localhost:8080/"
        },
        "id": "hOSau_DftNcq",
        "outputId": "c2169f48-cca2-48c5-df42-62d9dace67f2"
      },
      "id": "hOSau_DftNcq",
      "execution_count": null,
      "outputs": [
        {
          "output_type": "stream",
          "name": "stdout",
          "text": [
            "Counter({1: 90, 0: 20})\n",
            "The number of records in the training dataset is 77\n",
            "The number of records in the test dataset is 33\n",
            "Counter({1: 63, 0: 14})\n"
          ]
        }
      ]
    },
    {
      "cell_type": "code",
      "source": [
        "fig, ax = plt.subplots(1,2, figsize=(4,2))\n",
        "\n",
        "ax[0].hist(y_train)\n",
        "ax[0].set_title(\"Train labels\")\n",
        "ax[1].hist(y_test)\n",
        "ax[1].set_title(\"Test labels\")\n",
        "plt.show()"
      ],
      "metadata": {
        "colab": {
          "base_uri": "https://localhost:8080/",
          "height": 237
        },
        "id": "OXyUbGq-tT0a",
        "outputId": "06c24b9d-f20b-41df-8ee2-43bbee840256"
      },
      "id": "OXyUbGq-tT0a",
      "execution_count": null,
      "outputs": [
        {
          "output_type": "display_data",
          "data": {
            "text/plain": [
              "<Figure size 400x200 with 2 Axes>"
            ],
            "image/png": "[encoded data removed]"
          },
          "metadata": {}
        }
      ]
    },
    {
      "cell_type": "code",
      "source": [
        "y_train = np.array(y_train)[:, np.newaxis]\n",
        "y_test = np.array(y_test)[:, np.newaxis]\n",
        "print(X_test.shape,\n",
        "y_test.shape,\n",
        "X_train.shape,\n",
        "y_train.shape)"
      ],
      "metadata": {
        "colab": {
          "base_uri": "https://localhost:8080/"
        },
        "id": "iSxZ5oPZwUaT",
        "outputId": "9a8f7b08-f49d-478e-c135-56ff8a6de5c1"
      },
      "id": "iSxZ5oPZwUaT",
      "execution_count": null,
      "outputs": [
        {
          "output_type": "stream",
          "name": "stdout",
          "text": [
            "(33, 12) (33, 1) (77, 12) (77, 1)\n"
          ]
        }
      ]
    },
    {
      "cell_type": "markdown",
      "source": [
        "# BreastCancer"
      ],
      "metadata": {
        "id": "cJ0c7RfBt7F0"
      },
      "id": "cJ0c7RfBt7F0"
    },
    {
      "cell_type": "code",
      "source": [
        "breast_dataset, x ,y = breastcancerData()\n",
        "target = 'target'\n",
        "\n",
        "print(\"The dataset selected has shape: \" + str(breast_dataset.shape) + \" and for each class \"+ str(Counter(breast_dataset[target])))"
      ],
      "metadata": {
        "colab": {
          "base_uri": "https://localhost:8080/"
        },
        "id": "Bl-dmUm-t805",
        "outputId": "293596b9-58fc-4bcf-fc5c-5e5c1c006f69"
      },
      "id": "Bl-dmUm-t805",
      "execution_count": 49,
      "outputs": [
        {
          "output_type": "stream",
          "name": "stdout",
          "text": [
            "The dataset selected has shape: (569, 31) and for each class Counter({1: 357, 0: 212})\n"
          ]
        }
      ]
    },
    {
      "cell_type": "code",
      "source": [
        "out_class = [1]\n",
        "in_class = 0\n",
        "x_,y_ = split_inandout(out_class,in_class,target,breast_dataset,0.1)\n",
        "# y_ = np.where(y_ == 1, 0, 1)\n",
        "# Train test split\n",
        "X_train, X_test, y_train, y_test = split_TestTrain_normalize(x_,y_)"
      ],
      "metadata": {
        "id": "33oNtAhfuDxa",
        "colab": {
          "base_uri": "https://localhost:8080/"
        },
        "outputId": "24e13e7b-f494-4aa0-ab71-09932b9a28b2"
      },
      "id": "33oNtAhfuDxa",
      "execution_count": 50,
      "outputs": [
        {
          "output_type": "stream",
          "name": "stdout",
          "text": [
            "Counter({1: 212, 0: 36})\n",
            "The number of records in the training dataset is 173\n",
            "The number of records in the test dataset is 75\n",
            "Counter({1: 148, 0: 25})\n"
          ]
        }
      ]
    },
    {
      "cell_type": "code",
      "source": [
        "# Reduce dimensions (the dataset now has a dimensionality of 31 attributes)\n",
        "n_dim = 12 #number of qubits we want to use\n",
        "pca = PCA(n_components=n_dim).fit(X_train)\n",
        "X_train = pca.transform(X_train)\n",
        "X_test = pca.transform(X_test)\n",
        "num_qubits = n_dim"
      ],
      "metadata": {
        "id": "2asqtcTfuGZa"
      },
      "id": "2asqtcTfuGZa",
      "execution_count": null,
      "outputs": []
    },
    {
      "cell_type": "code",
      "source": [
        "fig, ax = plt.subplots(1,2, figsize=(4,2))\n",
        "\n",
        "ax[0].hist(y_train)\n",
        "ax[0].set_title(\"Train labels\")\n",
        "ax[1].hist(y_test)\n",
        "ax[1].set_title(\"Test labels\")\n",
        "plt.show()"
      ],
      "metadata": {
        "id": "QG0RWx9xuJVo",
        "colab": {
          "base_uri": "https://localhost:8080/"
        },
        "outputId": "182dd955-fe78-4af7-d9b8-fd01e810c247"
      },
      "id": "QG0RWx9xuJVo",
      "execution_count": null,
      "outputs": [
        {
          "output_type": "display_data",
          "data": {
            "text/plain": [
              "<Figure size 400x200 with 2 Axes>"
            ],
            "image/png": "[encoded data removed]"
          },
          "metadata": {}
        }
      ]
    },
    {
      "cell_type": "code",
      "source": [
        "n_dim = X_train.shape[1]\n",
        "y_train = np.array(y_train)[:, np.newaxis]\n",
        "y_test = np.array(y_test)[:, np.newaxis]\n",
        "print(X_test.shape,\n",
        "y_test.shape,\n",
        "X_train.shape,\n",
        "y_train.shape)"
      ],
      "metadata": {
        "id": "z35Md2DuwWoM",
        "colab": {
          "base_uri": "https://localhost:8080/"
        },
        "outputId": "82479324-99d3-4f35-9e37-518f0e18b221"
      },
      "id": "z35Md2DuwWoM",
      "execution_count": null,
      "outputs": [
        {
          "output_type": "stream",
          "name": "stdout",
          "text": [
            "(75, 12) (75, 1) (173, 12) (173, 1)\n"
          ]
        }
      ]
    },
    {
      "cell_type": "markdown",
      "source": [
        "# adhoc"
      ],
      "metadata": {
        "id": "Ti9XYg9QLrYH"
      },
      "id": "Ti9XYg9QLrYH"
    },
    {
      "cell_type": "code",
      "source": [
        "adhoc_dataset, x ,y = breastcancerData()\n",
        "target = 'target'\n",
        "print(\"The dataset selected has shape: \" + str(adhoc_dataset.shape) + \" and for each class \"+ str(Counter(adhoc_dataset[target])))"
      ],
      "metadata": {
        "colab": {
          "base_uri": "https://localhost:8080/"
        },
        "id": "YLEZHQRpLvvf",
        "outputId": "b76f5339-f6a5-4cf0-dd79-9124a276c3af"
      },
      "id": "YLEZHQRpLvvf",
      "execution_count": 15,
      "outputs": [
        {
          "output_type": "stream",
          "name": "stdout",
          "text": [
            "The dataset selected has shape: (569, 31) and for each class Counter({1: 357, 0: 212})\n"
          ]
        }
      ]
    },
    {
      "cell_type": "code",
      "source": [
        "out_class = [0]\n",
        "in_class = 1\n",
        "x_,y_ = split_inandout(out_class,in_class,target,adhoc_dataset,0.1)\n",
        "# Train test split\n",
        "X_train, X_test, y_train, y_test = split_TestTrain_normalize(x_,y_)"
      ],
      "metadata": {
        "colab": {
          "base_uri": "https://localhost:8080/"
        },
        "id": "i-ivC3-HMAhm",
        "outputId": "283d1f0f-19ff-45df-9766-40b58056df39"
      },
      "id": "i-ivC3-HMAhm",
      "execution_count": 16,
      "outputs": [
        {
          "output_type": "stream",
          "name": "stdout",
          "text": [
            "Counter({1: 357, 0: 21})\n",
            "The number of records in the training dataset is 264\n",
            "The number of records in the test dataset is 114\n",
            "Counter({1: 249, 0: 15})\n"
          ]
        }
      ]
    },
    {
      "cell_type": "code",
      "source": [
        "# Reduce dimensions (the dataset now has a dimensionality of 31 attributes)\n",
        "#number of qubits we want to use\n",
        "pca = PCA(n_components=2).fit(X_train)\n",
        "X_train = pca.transform(X_train)\n",
        "X_test = pca.transform(X_test)\n",
        "n_dim = X_train.shape[1]\n",
        "num_qubits = n_dim"
      ],
      "metadata": {
        "id": "lu8lmbKaMEWJ"
      },
      "id": "lu8lmbKaMEWJ",
      "execution_count": 17,
      "outputs": []
    },
    {
      "cell_type": "code",
      "source": [
        "X_train.shape[1]"
      ],
      "metadata": {
        "colab": {
          "base_uri": "https://localhost:8080/"
        },
        "id": "XX23tOn2OCFt",
        "outputId": "f39444ae-4935-46cb-e9fb-d0d349bef47c"
      },
      "id": "XX23tOn2OCFt",
      "execution_count": 18,
      "outputs": [
        {
          "output_type": "execute_result",
          "data": {
            "text/plain": [
              "2"
            ]
          },
          "metadata": {},
          "execution_count": 18
        }
      ]
    },
    {
      "cell_type": "code",
      "source": [
        "fig, ax = plt.subplots(1,2, figsize=(4,2))\n",
        "\n",
        "ax[0].hist(y_train)\n",
        "ax[0].set_title(\"Train labels\")\n",
        "ax[1].hist(y_test)\n",
        "ax[1].set_title(\"Test labels\")\n",
        "plt.show()"
      ],
      "metadata": {
        "colab": {
          "base_uri": "https://localhost:8080/",
          "height": 0
        },
        "id": "P9Axxtt-MFX-",
        "outputId": "14f353c2-13c4-439b-8b4e-57699f88d4ef"
      },
      "id": "P9Axxtt-MFX-",
      "execution_count": 19,
      "outputs": [
        {
          "output_type": "display_data",
          "data": {
            "text/plain": [
              "<Figure size 400x200 with 2 Axes>"
            ],
            "image/png": "[encoded data removed]"
          },
          "metadata": {}
        }
      ]
    },
    {
      "cell_type": "code",
      "source": [
        "n_dim = X_train.shape[1]\n",
        "y_train = np.array(y_train)[:, np.newaxis]\n",
        "y_test = np.array(y_test)[:, np.newaxis]\n",
        "print(X_test.shape,\n",
        "y_test.shape,\n",
        "X_train.shape,\n",
        "y_train.shape)"
      ],
      "metadata": {
        "colab": {
          "base_uri": "https://localhost:8080/"
        },
        "id": "pUpY-mKWNQMc",
        "outputId": "00995693-3715-4844-a415-34dc1ed95765"
      },
      "id": "pUpY-mKWNQMc",
      "execution_count": 20,
      "outputs": [
        {
          "output_type": "stream",
          "name": "stdout",
          "text": [
            "(114, 2) (114, 1) (264, 2) (264, 1)\n"
          ]
        }
      ]
    },
    {
      "cell_type": "markdown",
      "id": "d64ac5b4",
      "metadata": {
        "id": "d64ac5b4"
      },
      "source": [
        "# Train the model for the chosen Dataset"
      ]
    },
    {
      "cell_type": "code",
      "execution_count": 57,
      "id": "9FL5SsR9MzUB",
      "metadata": {
        "id": "9FL5SsR9MzUB"
      },
      "outputs": [],
      "source": [
        "# Define the number of layers to try"
      ]
    },
    {
      "cell_type": "code",
      "execution_count": 12,
      "id": "4ccde280",
      "metadata": {
        "id": "4ccde280"
      },
      "outputs": [],
      "source": [
        "num_layers_list = [1,2,3,5,8,13,15]"
      ]
    },
    {
      "cell_type": "code",
      "source": [
        "maxiterations = 20"
      ],
      "metadata": {
        "id": "Cwbpa_Cj-TB_"
      },
      "id": "Cwbpa_Cj-TB_",
      "execution_count": null,
      "outputs": []
    },
    {
      "cell_type": "code",
      "source": [
        "# Define the optimizers to try\n",
        "optimizers = [\n",
        "              # COBYLA(maxiter=maxiterations),\n",
        "              SPSA(maxiter=maxiterations)\n",
        "              # SLSQP(maxiter=maxiterations)\n",
        "              ]\n",
        "\n",
        "# Iterate over all combinations of feature maps, ansatzes and optimizers\n",
        "for num_layers in num_layers_list:\n",
        "\n",
        "    ansatzes = [\n",
        "              RealAmplitudes(num_qubits=n_dim, reps=num_layers),\n",
        "              # EfficientSU2(num_qubits=n_dim)\n",
        "              ]\n",
        "    feature_maps = [\n",
        "              # ZZFeatureMap(feature_dimension=n_dim, reps=2),\n",
        "              ZFeatureMap(feature_dimension=n_dim),\n",
        "              # PauliFeatureMap(feature_dimension=n_dim)\n",
        "              ]\n",
        "\n",
        "    for i, (feature_map, ansatz, optimizer) in enumerate(product(feature_maps, ansatzes, optimizers)):\n",
        "        print(f\"Using {num_layers} layers\")\n",
        "        print(f\"Using feature map: {feature_map.__class__.__name__}\")\n",
        "        print(f\"Using ansatz: {ansatz.__class__.__name__}\")\n",
        "        print(f\"Using optimizer: {optimizer.__class__.__name__}\")\n",
        "\n",
        "        train_vqc(X_train, y_train, X_test, y_test, num_layers, ansatz, feature_map, optimizer)\n"
      ],
      "metadata": {
        "id": "ZC6H9MDzM1LI"
      },
      "id": "ZC6H9MDzM1LI",
      "execution_count": null,
      "outputs": []
    }
  ],
  "metadata": {
    "colab": {
      "provenance": [],
      "collapsed_sections": [
        "hzNHt5tgAYq-",
        "4S3JEB-EATJ-",
        "s7ssAHSoB1bM",
        "hw3-38q2J1D3",
        "EwCk0kXNMXvB",
        "hwSJq3V4Bqxg",
        "UIKbGLjlA0Kb",
        "cJ0c7RfBt7F0",
        "Ti9XYg9QLrYH",
        "d64ac5b4"
      ]
    },
    "kernelspec": {
      "display_name": "Python 3 (ipykernel)",
      "language": "python",
      "name": "python3"
    },
    "language_info": {
      "codemirror_mode": {
        "name": "ipython",
        "version": 3
      },
      "file_extension": ".py",
      "mimetype": "text/x-python",
      "name": "python",
      "nbconvert_exporter": "python",
      "pygments_lexer": "ipython3",
      "version": "3.9.13"
    }
  },
  "nbformat": 4,
  "nbformat_minor": 5
}