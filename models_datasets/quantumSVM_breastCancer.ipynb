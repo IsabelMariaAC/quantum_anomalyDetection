{
 "cells": [
  {
   "cell_type": "code",
   "execution_count": 3,
   "id": "fcfcc58a-b2f6-479c-be97-2451601a64ed",
   "metadata": {
    "tags": []
   },
   "outputs": [],
   "source": [
    "# General Imports\n",
    "import numpy as np\n",
    "import pandas as pd\n",
    "\n",
    "\n",
    "# Visualisation Imports\n",
    "import matplotlib.pyplot as plt\n",
    "\n",
    "# Scikit Imports\n",
    "from sklearn import datasets\n",
    "from sklearn.model_selection import train_test_split\n",
    "from sklearn.svm import SVC\n",
    "from sklearn.decomposition import PCA\n",
    "from sklearn.preprocessing import StandardScaler, MinMaxScaler\n",
    "from sklearn.datasets import load_breast_cancer\n",
    "\n",
    "# Qiskit Imports\n",
    "from qiskit import Aer, execute\n",
    "from qiskit.circuit import QuantumCircuit, Parameter, ParameterVector\n",
    "from qiskit.circuit.library import PauliFeatureMap, ZFeatureMap, ZZFeatureMap\n",
    "from qiskit.circuit.library import TwoLocal, NLocal, RealAmplitudes, EfficientSU2\n",
    "from qiskit.circuit.library import HGate, RXGate, RYGate, RZGate, CXGate, CRXGate, CRZGate\n",
    "from qiskit_machine_learning.kernels import QuantumKernel"
   ]
  },
  {
   "cell_type": "code",
   "execution_count": 4,
   "id": "8d4b9264-09be-4870-8c83-95d59514ff3b",
   "metadata": {
    "tags": []
   },
   "outputs": [],
   "source": [
    "df = load_breast_cancer()\n",
    "name = 'breast_cancer'"
   ]
  },
  {
   "cell_type": "code",
   "execution_count": 5,
   "id": "5e868f8c-d616-4cd4-8baf-35283cbfffdd",
   "metadata": {
    "tags": []
   },
   "outputs": [
    {
     "name": "stdout",
     "output_type": "stream",
     "text": [
      "(569, 31) [2]\n"
     ]
    }
   ],
   "source": [
    "#Breast Cancer Dataset\n",
    "\n",
    "data = pd.DataFrame(data=df, columns=df.feature_names)\n",
    "data.columns = ['feature{}'.format(i) for i in range(0,data.shape[1])]\n",
    "\n",
    "dataset = pd.DataFrame(df.data).assign(target=df.target)\n",
    "print (dataset.shape,pd.DataFrame(df.target).nunique().tolist()[-1:])"
   ]
  },
  {
   "cell_type": "code",
   "execution_count": 4,
   "id": "8c3d9266-8003-49fa-8a64-3d205cf0827a",
   "metadata": {
    "tags": []
   },
   "outputs": [],
   "source": [
    "# Split dataset\n",
    "sample_train, sample_test, label_train, label_test = train_test_split(\n",
    "     df.data, df.target, test_size=0.2, random_state=22)\n",
    "\n",
    "# Reduce dimensions (the dataset now has a dimensionality of 31 attributes)\n",
    "n_dim = 30 #number of qubits we want to use\n",
    "pca = PCA(n_components=n_dim).fit(sample_train)\n",
    "sample_train = pca.transform(sample_train)\n",
    "sample_test = pca.transform(sample_test)\n",
    "\n",
    "# Normalise\n",
    "std_scale = StandardScaler().fit(sample_train)\n",
    "sample_train = std_scale.transform(sample_train)\n",
    "sample_test = std_scale.transform(sample_test)\n",
    "\n",
    "# Scale\n",
    "samples = np.append(sample_train, sample_test, axis=0)\n",
    "minmax_scale = MinMaxScaler((-1, 1)).fit(samples)\n",
    "sample_train = minmax_scale.transform(sample_train)\n",
    "sample_test = minmax_scale.transform(sample_test)\n",
    "\n",
    "# Select\n",
    "train_size = 100\n",
    "sample_train = sample_train[:train_size]\n",
    "label_train = label_train[:train_size]\n",
    "\n",
    "test_size = 20\n",
    "sample_test = sample_test[:test_size]\n",
    "label_test = label_test[:test_size]"
   ]
  },
  {
   "cell_type": "code",
   "execution_count": 5,
   "id": "0ae3b6f9-8306-4781-8f49-92a7bf9986ef",
   "metadata": {
    "tags": []
   },
   "outputs": [
    {
     "name": "stdout",
     "output_type": "stream",
     "text": [
      "[-0.67877167 -0.32887698 -0.64391848 -0.50048413  0.20973561  1.\n",
      " -0.24937677 -0.33193207 -0.29526755 -0.07666853  0.22008304 -0.05974142\n",
      "  0.04167625  0.08064722 -0.25052035  0.38897202 -0.5436402   0.28774898\n",
      "  0.00547205 -0.28492198  0.44259583  0.43093191 -0.37247299 -0.62579648\n",
      " -0.35858197 -0.07113956  0.17223689  0.64485952 -0.4449351  -0.1369305 ] 0\n",
      "[-0.68758509  0.0201601  -0.71602497  0.1402525   0.22277054 -0.20188052\n",
      "  0.20999774 -0.07640624 -0.1460066  -0.43104741 -0.22748698 -0.0075966\n",
      " -0.21643985 -0.12164196 -0.28725603 -0.18949382 -0.41093089 -0.02013025\n",
      "  0.03987041 -0.1693084   0.31341618  0.01503809 -0.17979486 -0.36846553\n",
      " -0.02033012 -0.02271395 -0.17458868 -0.1318063  -0.28286751 -0.16740533] 1\n"
     ]
    }
   ],
   "source": [
    "print(sample_train[0], label_train[0])\n",
    "print(sample_test[0], label_test[0])"
   ]
  },
  {
   "cell_type": "markdown",
   "id": "b4b0bb71-e44a-4515-9670-a54c79d90892",
   "metadata": {},
   "source": [
    "With our training and testing datasets ready, we set up the QuantumKernel class with the ZZFeatureMap, and use the BasicAer statevector_simulator to estimate the training and testing kernel matrices."
   ]
  },
  {
   "cell_type": "code",
   "execution_count": 6,
   "id": "9bd7ca49-5d18-408f-8556-82c4cc054899",
   "metadata": {
    "tags": []
   },
   "outputs": [],
   "source": [
    "zz_map = ZZFeatureMap(feature_dimension=30, reps=2, entanglement='linear', insert_barriers=True)\n",
    "\n",
    "zz_kernel = QuantumKernel(feature_map=zz_map, quantum_instance=Aer.get_backend('statevector_simulator'))"
   ]
  },
  {
   "cell_type": "markdown",
   "id": "8042f8b0-6fe1-4b09-8acf-f9e9df7954c8",
   "metadata": {},
   "source": [
    "Let's calculate the transition amplitude between the first and second training data samples, one of the entries in the training kernel matrix."
   ]
  },
  {
   "cell_type": "markdown",
   "id": "75003d71-a3b3-4ce2-885b-fa20b75a9656",
   "metadata": {},
   "source": [
    "Let's createe a circuit for the first sample and try to simulate"
   ]
  },
  {
   "cell_type": "code",
   "execution_count": 10,
   "id": "0bae43cc-a1e7-45d2-a9c9-95432641f476",
   "metadata": {
    "tags": []
   },
   "outputs": [],
   "source": [
    "zz_circuit = zz_kernel.construct_circuit(sample_train[0], sample_train[1])\n",
    "#zz_circuit.decompose().decompose().draw(output='mpl')"
   ]
  },
  {
   "cell_type": "markdown",
   "id": "91e4b93d-49ba-43b6-ab87-411fcd574c28",
   "metadata": {},
   "source": [
    "We then simulate the circuit. We will use the `qasm_simulator` since the circuit contains measurements, but increase the number of shots to reduce the effect of sampling noise."
   ]
  },
  {
   "cell_type": "code",
   "execution_count": null,
   "id": "fc0d45a4-0657-4412-a9d4-bf4a3f790376",
   "metadata": {
    "tags": []
   },
   "outputs": [],
   "source": [
    "backend = Aer.get_backend('qasm_simulator')\n",
    "job = execute(zz_circuit, backend, shots=8192, \n",
    "              seed_simulator=1024, seed_transpiler=1024)\n",
    "counts = job.result().get_counts(zz_circuit)"
   ]
  },
  {
   "cell_type": "markdown",
   "id": "785e15aa-b9ee-4ae6-bbd4-c143276d34d6",
   "metadata": {},
   "source": [
    "This process is then repeated for each pair of training data samples to fill in the training kernel matrix, and between each training and testing data sample to fill in the testing kernel matrix. Note that each matrix is symmetric, so to reduce computation time, only half the entries are calculated explictly. "
   ]
  },
  {
   "cell_type": "code",
   "execution_count": null,
   "id": "a7effab2-3910-4adc-8c33-264013fd5408",
   "metadata": {},
   "outputs": [],
   "source": [
    "matrix_train = zz_kernel.evaluate(x_vec=sample_train)\n",
    "matrix_test = zz_kernel.evaluate(x_vec=sample_test, y_vec=sample_train)\n",
    "\n",
    "fig, axs = plt.subplots(1, 2, figsize=(10, 5))\n",
    "axs[0].imshow(np.asmatrix(matrix_train),\n",
    "              interpolation='nearest', origin='upper', cmap='Blues')\n",
    "axs[0].set_title(\"training kernel matrix\")\n",
    "axs[1].imshow(np.asmatrix(matrix_test),\n",
    "              interpolation='nearest', origin='upper', cmap='Reds')\n",
    "axs[1].set_title(\"testing kernel matrix\")\n",
    "plt.show()"
   ]
  },
  {
   "cell_type": "code",
   "execution_count": null,
   "id": "0f456f9c-ba0f-4502-b535-89611dcece2d",
   "metadata": {
    "tags": []
   },
   "outputs": [],
   "source": [
    "zzcb_svc = SVC(kernel=zz_kernel.evaluate)\n",
    "zzcb_svc.fit(sample_train, label_train)\n",
    "zzcb_score = zzcb_svc.score(sample_test, label_test)\n",
    "\n",
    "print(f'Callable kernel classification test score: {zzcb_score}')"
   ]
  },
  {
   "cell_type": "code",
   "execution_count": null,
   "id": "81e8a918-9a95-4ff1-b767-4f4eaa7cc0d0",
   "metadata": {},
   "outputs": [],
   "source": []
  }
 ],
 "metadata": {
  "kernelspec": {
   "display_name": "Python 3 (ipykernel)",
   "language": "python",
   "name": "python3"
  },
  "language_info": {
   "codemirror_mode": {
    "name": "ipython",
    "version": 3
   },
   "file_extension": ".py",
   "mimetype": "text/x-python",
   "name": "python",
   "nbconvert_exporter": "python",
   "pygments_lexer": "ipython3",
   "version": "3.10.8"
  },
  "widgets": {
   "application/vnd.jupyter.widget-state+json": {
    "state": {},
    "version_major": 2,
    "version_minor": 0
   }
  }
 },
 "nbformat": 4,
 "nbformat_minor": 5
}
