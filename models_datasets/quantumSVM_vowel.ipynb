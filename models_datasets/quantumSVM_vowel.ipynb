{
 "cells": [
  {
   "cell_type": "code",
   "execution_count": 3,
   "id": "fcfcc58a-b2f6-479c-be97-2451601a64ed",
   "metadata": {
    "tags": []
   },
   "outputs": [],
   "source": [
    "# General Imports\n",
    "import numpy as np\n",
    "import pandas as pd\n",
    "from collections import Counter\n",
    "\n",
    "# Visualisation Imports\n",
    "import matplotlib.pyplot as plt\n",
    "\n",
    "# Scikit Imports\n",
    "from sklearn import datasets\n",
    "from sklearn.model_selection import train_test_split\n",
    "from sklearn.svm import SVC\n",
    "from sklearn.decomposition import PCA\n",
    "from sklearn.preprocessing import StandardScaler, MinMaxScaler\n",
    "\n",
    "# Qiskit Imports\n",
    "from qiskit import Aer, execute\n",
    "from qiskit.circuit import QuantumCircuit, Parameter, ParameterVector\n",
    "from qiskit.circuit.library import PauliFeatureMap, ZFeatureMap, ZZFeatureMap\n",
    "from qiskit.circuit.library import TwoLocal, NLocal, RealAmplitudes, EfficientSU2\n",
    "from qiskit.circuit.library import HGate, RXGate, RYGate, RZGate, CXGate, CRXGate, CRZGate\n",
    "from qiskit_machine_learning.kernels import QuantumKernel"
   ]
  },
  {
   "cell_type": "code",
   "execution_count": 4,
   "id": "8d4b9264-09be-4870-8c83-95d59514ff3b",
   "metadata": {
    "tags": []
   },
   "outputs": [],
   "source": [
    "vowel = 'https://archive.ics.uci.edu/ml/machine-learning-databases/undocumented/connectionist-bench/vowel/vowel-context.data'"
   ]
  },
  {
   "cell_type": "code",
   "execution_count": 5,
   "id": "5e868f8c-d616-4cd4-8baf-35283cbfffdd",
   "metadata": {
    "tags": []
   },
   "outputs": [
    {
     "data": {
      "text/plain": [
       "((987, 14), [11])"
      ]
     },
     "execution_count": 5,
     "metadata": {},
     "output_type": "execute_result"
    }
   ],
   "source": [
    "#Vowel dataset we select the fist and the second vowel\n",
    "vowel_data = pd.read_csv(vowel,skiprows=2, index_col=False,delim_whitespace=True)\n",
    "vowel_data.columns = ['feature{}'.format(i) for i in range(0,vowel_data.shape[1])]\n",
    "\n",
    "vowel_data.shape,vowel_data.nunique().tolist()[-1:]"
   ]
  },
  {
   "cell_type": "code",
   "execution_count": 10,
   "id": "4a651a3b-99c7-4f3d-b4ba-3708a3d213d6",
   "metadata": {
    "tags": []
   },
   "outputs": [
    {
     "data": {
      "text/plain": [
       "(125, 14)"
      ]
     },
     "execution_count": 10,
     "metadata": {},
     "output_type": "execute_result"
    }
   ],
   "source": [
    "#vowel1_dataset.query('feature13 == True')\n",
    "vowel1_dataset = vowel_data.copy()\n",
    "vowel1_dataset['feature13']= (vowel1_dataset['feature13']==1)\n",
    "vowel1_dataset = vowel1_dataset.drop(vowel1_dataset[vowel1_dataset['feature13'] == False].sample(frac=0.96).index)\n",
    "vowel1_dataset.shape"
   ]
  },
  {
   "cell_type": "code",
   "execution_count": 13,
   "id": "2f1e95e1-6de0-41cf-84c9-cb923658d969",
   "metadata": {
    "tags": []
   },
   "outputs": [],
   "source": [
    "X = np.array(vowel1_dataset.iloc[: , :-1])\n",
    "y = np.array(vowel1_dataset.iloc[: , -1:].astype(int))\n"
   ]
  },
  {
   "cell_type": "code",
   "execution_count": 14,
   "id": "8c3d9266-8003-49fa-8a64-3d205cf0827a",
   "metadata": {
    "tags": []
   },
   "outputs": [],
   "source": [
    "# Split dataset\n",
    "sample_train, sample_test, label_train, label_test = train_test_split(\n",
    "     X, y, test_size=0.2, random_state=22)\n",
    "\n",
    "# Reduce dimensions (the dataset now has a dimensionality of 31 attributes)\n",
    "n_dim = 13 #number of qubits we want to use\n",
    "pca = PCA(n_components=n_dim).fit(sample_train)\n",
    "sample_train = pca.transform(sample_train)\n",
    "sample_test = pca.transform(sample_test)\n",
    "\n",
    "# Normalise\n",
    "std_scale = StandardScaler().fit(sample_train)\n",
    "sample_train = std_scale.transform(sample_train)\n",
    "sample_test = std_scale.transform(sample_test)\n",
    "\n",
    "# Scale\n",
    "samples = np.append(sample_train, sample_test, axis=0)\n",
    "minmax_scale = MinMaxScaler((-1, 1)).fit(samples)\n",
    "sample_train = minmax_scale.transform(sample_train)\n",
    "sample_test = minmax_scale.transform(sample_test)\n",
    "\n",
    "# Select\n",
    "train_size = 100\n",
    "sample_train = sample_train[:train_size]\n",
    "label_train = label_train[:train_size]\n",
    "\n",
    "test_size = 20\n",
    "sample_test = sample_test[:test_size]\n",
    "label_test = label_test[:test_size]"
   ]
  },
  {
   "cell_type": "code",
   "execution_count": 15,
   "id": "0ae3b6f9-8306-4781-8f49-92a7bf9986ef",
   "metadata": {
    "tags": []
   },
   "outputs": [
    {
     "name": "stdout",
     "output_type": "stream",
     "text": [
      "[-0.39322976  0.6053539  -0.76858786 -0.26009067 -0.07461199 -0.22404617\n",
      " -0.29787192  0.23080176 -0.32122001  0.45241786 -0.26275635 -0.07066858\n",
      "  0.37891289] [1]\n",
      "[ 0.04513998 -1.         -0.2140633  -0.92848571  0.32334025  0.15926126\n",
      "  0.0856235  -0.28793075 -0.33857458 -0.01537349 -0.23196284  0.36211106\n",
      "  0.85129546] [1]\n"
     ]
    }
   ],
   "source": [
    "print(sample_train[0], label_train[0])\n",
    "print(sample_test[0], label_test[0])"
   ]
  },
  {
   "cell_type": "markdown",
   "id": "b4b0bb71-e44a-4515-9670-a54c79d90892",
   "metadata": {},
   "source": [
    "With our training and testing datasets ready, we set up the QuantumKernel class with the ZZFeatureMap, and use the BasicAer statevector_simulator to estimate the training and testing kernel matrices."
   ]
  },
  {
   "cell_type": "code",
   "execution_count": 16,
   "id": "9bd7ca49-5d18-408f-8556-82c4cc054899",
   "metadata": {
    "tags": []
   },
   "outputs": [],
   "source": [
    "zz_map = ZZFeatureMap(feature_dimension=13, reps=2, entanglement='linear', insert_barriers=True)\n",
    "\n",
    "zz_kernel = QuantumKernel(feature_map=zz_map, quantum_instance=Aer.get_backend('statevector_simulator'))"
   ]
  },
  {
   "cell_type": "markdown",
   "id": "8042f8b0-6fe1-4b09-8acf-f9e9df7954c8",
   "metadata": {},
   "source": [
    "Let's calculate the transition amplitude between the first and second training data samples, one of the entries in the training kernel matrix."
   ]
  },
  {
   "cell_type": "markdown",
   "id": "75003d71-a3b3-4ce2-885b-fa20b75a9656",
   "metadata": {},
   "source": [
    "Let's createe a circuit for the first sample and try to simulate"
   ]
  },
  {
   "cell_type": "code",
   "execution_count": 17,
   "id": "0bae43cc-a1e7-45d2-a9c9-95432641f476",
   "metadata": {
    "tags": []
   },
   "outputs": [],
   "source": [
    "zz_circuit = zz_kernel.construct_circuit(sample_train[0], sample_train[1])\n",
    "#zz_circuit.decompose().decompose().draw(output='mpl')"
   ]
  },
  {
   "cell_type": "markdown",
   "id": "91e4b93d-49ba-43b6-ab87-411fcd574c28",
   "metadata": {},
   "source": [
    "We then simulate the circuit. We will use the `qasm_simulator` since the circuit contains measurements, but increase the number of shots to reduce the effect of sampling noise."
   ]
  },
  {
   "cell_type": "code",
   "execution_count": 18,
   "id": "fc0d45a4-0657-4412-a9d4-bf4a3f790376",
   "metadata": {
    "tags": []
   },
   "outputs": [],
   "source": [
    "backend = Aer.get_backend('qasm_simulator')\n",
    "job = execute(zz_circuit, backend, shots=8192, \n",
    "              seed_simulator=1024, seed_transpiler=1024)\n",
    "counts = job.result().get_counts(zz_circuit)"
   ]
  },
  {
   "cell_type": "markdown",
   "id": "785e15aa-b9ee-4ae6-bbd4-c143276d34d6",
   "metadata": {},
   "source": [
    "This process is then repeated for each pair of training data samples to fill in the training kernel matrix, and between each training and testing data sample to fill in the testing kernel matrix. Note that each matrix is symmetric, so to reduce computation time, only half the entries are calculated explictly. "
   ]
  },
  {
   "cell_type": "code",
   "execution_count": 19,
   "id": "a7effab2-3910-4adc-8c33-264013fd5408",
   "metadata": {},
   "outputs": [
    {
     "data": {
      "image/png": "[encoded data removed]",
      "text/plain": [
       "<Figure size 1000x500 with 2 Axes>"
      ]
     },
     "metadata": {},
     "output_type": "display_data"
    }
   ],
   "source": [
    "matrix_train = zz_kernel.evaluate(x_vec=sample_train)\n",
    "matrix_test = zz_kernel.evaluate(x_vec=sample_test, y_vec=sample_train)\n",
    "\n",
    "fig, axs = plt.subplots(1, 2, figsize=(10, 5))\n",
    "axs[0].imshow(np.asmatrix(matrix_train),\n",
    "              interpolation='nearest', origin='upper', cmap='Blues')\n",
    "axs[0].set_title(\"training kernel matrix\")\n",
    "axs[1].imshow(np.asmatrix(matrix_test),\n",
    "              interpolation='nearest', origin='upper', cmap='Reds')\n",
    "axs[1].set_title(\"testing kernel matrix\")\n",
    "plt.show()"
   ]
  },
  {
   "cell_type": "markdown",
   "id": "72596536-aa70-4a04-8e0f-cf7377890d57",
   "metadata": {},
   "source": [
    "The `scikit-learn` `svc` algorithm allows us to define a [custom kernel](https://scikit-learn.org/stable/modules/svm.html#custom-kernels) in two ways: by providing the kernel as a callable function or by precomputing the kernel matrix. We can do either of these using the `QuantumKernel` class in Qiskit.\n",
    "\n",
    "The following code takes the training and testing kernel matrices we calculated earlier and  provides them to the `scikit-learn` `svc` algorithm:"
   ]
  },
  {
   "cell_type": "code",
   "execution_count": 20,
   "id": "e86eb666-4a83-4e0d-969c-c3013da10fa4",
   "metadata": {
    "tags": []
   },
   "outputs": [
    {
     "name": "stdout",
     "output_type": "stream",
     "text": [
      "Precomputed kernel classification test score: 0.75\n"
     ]
    },
    {
     "name": "stderr",
     "output_type": "stream",
     "text": [
      "/opt/conda/lib/python3.10/site-packages/sklearn/utils/validation.py:1143: DataConversionWarning: A column-vector y was passed when a 1d array was expected. Please change the shape of y to (n_samples, ), for example using ravel().\n",
      "  y = column_or_1d(y, warn=True)\n"
     ]
    }
   ],
   "source": [
    "zzpc_svc = SVC(kernel='precomputed')\n",
    "zzpc_svc.fit(matrix_train, label_train)\n",
    "zzpc_score = zzpc_svc.score(matrix_test, label_test)\n",
    "\n",
    "print(f'Precomputed kernel classification test score: {zzpc_score}')"
   ]
  },
  {
   "cell_type": "markdown",
   "id": "aff1cbb7-1577-48bd-99e4-1d75ff41933d",
   "metadata": {},
   "source": [
    "The following code gives the kernel as a callable function:"
   ]
  },
  {
   "cell_type": "code",
   "execution_count": 21,
   "id": "0f456f9c-ba0f-4502-b535-89611dcece2d",
   "metadata": {
    "tags": []
   },
   "outputs": [
    {
     "name": "stderr",
     "output_type": "stream",
     "text": [
      "/opt/conda/lib/python3.10/site-packages/sklearn/svm/_base.py:744: DataConversionWarning: A column-vector y was passed when a 1d array was expected. Please change the shape of y to (n_samples, ), for example using ravel().\n",
      "  y_ = column_or_1d(y, warn=True)\n"
     ]
    },
    {
     "name": "stdout",
     "output_type": "stream",
     "text": [
      "Callable kernel classification test score: 0.75\n"
     ]
    }
   ],
   "source": [
    "zzcb_svc = SVC(kernel=zz_kernel.evaluate)\n",
    "zzcb_svc.fit(sample_train, label_train)\n",
    "zzcb_score = zzcb_svc.score(sample_test, label_test)\n",
    "\n",
    "print(f'Callable kernel classification test score: {zzcb_score}')"
   ]
  },
  {
   "cell_type": "code",
   "execution_count": 22,
   "id": "81e8a918-9a95-4ff1-b767-4f4eaa7cc0d0",
   "metadata": {
    "tags": []
   },
   "outputs": [
    {
     "name": "stdout",
     "output_type": "stream",
     "text": [
      "linear kernel classification test score:  0.95\n",
      "poly kernel classification test score:  1.00\n",
      "rbf kernel classification test score:  1.00\n",
      "sigmoid kernel classification test score:  0.90\n"
     ]
    },
    {
     "name": "stderr",
     "output_type": "stream",
     "text": [
      "/opt/conda/lib/python3.10/site-packages/sklearn/utils/validation.py:1143: DataConversionWarning: A column-vector y was passed when a 1d array was expected. Please change the shape of y to (n_samples, ), for example using ravel().\n",
      "  y = column_or_1d(y, warn=True)\n",
      "/opt/conda/lib/python3.10/site-packages/sklearn/utils/validation.py:1143: DataConversionWarning: A column-vector y was passed when a 1d array was expected. Please change the shape of y to (n_samples, ), for example using ravel().\n",
      "  y = column_or_1d(y, warn=True)\n",
      "/opt/conda/lib/python3.10/site-packages/sklearn/utils/validation.py:1143: DataConversionWarning: A column-vector y was passed when a 1d array was expected. Please change the shape of y to (n_samples, ), for example using ravel().\n",
      "  y = column_or_1d(y, warn=True)\n",
      "/opt/conda/lib/python3.10/site-packages/sklearn/utils/validation.py:1143: DataConversionWarning: A column-vector y was passed when a 1d array was expected. Please change the shape of y to (n_samples, ), for example using ravel().\n",
      "  y = column_or_1d(y, warn=True)\n"
     ]
    }
   ],
   "source": [
    "classical_kernels = ['linear', 'poly', 'rbf', 'sigmoid']\n",
    "\n",
    "for kernel in classical_kernels:\n",
    "    classical_svc = SVC(kernel=kernel)\n",
    "    classical_svc.fit(sample_train, label_train)\n",
    "    classical_score = classical_svc.score(sample_test, label_test)\n",
    "\n",
    "    print('%s kernel classification test score:  %0.2f' % (kernel, classical_score))"
   ]
  },
  {
   "cell_type": "code",
   "execution_count": null,
   "id": "a01cdd8f-0726-4ed5-b5be-bb0b8a9b41d3",
   "metadata": {},
   "outputs": [],
   "source": []
  }
 ],
 "metadata": {
  "kernelspec": {
   "display_name": "Python 3 (ipykernel)",
   "language": "python",
   "name": "python3"
  },
  "language_info": {
   "codemirror_mode": {
    "name": "ipython",
    "version": 3
   },
   "file_extension": ".py",
   "mimetype": "text/x-python",
   "name": "python",
   "nbconvert_exporter": "python",
   "pygments_lexer": "ipython3",
   "version": "3.10.8"
  },
  "widgets": {
   "application/vnd.jupyter.widget-state+json": {
    "state": {},
    "version_major": 2,
    "version_minor": 0
   }
  }
 },
 "nbformat": 4,
 "nbformat_minor": 5
}
