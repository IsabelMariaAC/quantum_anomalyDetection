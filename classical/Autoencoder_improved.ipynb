{
 "cells": [
  {
   "cell_type": "markdown",
   "metadata": {},
   "source": [
    "# Fully connected Auto-Encoder for Tabular Data\n",
    "In order to compare the classical and quantum methods we will implement several methods including the deep learning method, fully connected auto-encoder. "
   ]
  },
  {
   "cell_type": "markdown",
   "metadata": {},
   "source": [
    "### Imports"
   ]
  },
  {
   "cell_type": "code",
   "execution_count": 1,
   "metadata": {},
   "outputs": [
    {
     "name": "stderr",
     "output_type": "stream",
     "text": [
      "/Users/pallii/opt/miniconda3/envs/datascience/lib/python3.9/site-packages/tqdm/auto.py:21: TqdmWarning: IProgress not found. Please update jupyter and ipywidgets. See https://ipywidgets.readthedocs.io/en/stable/user_install.html\n",
      "  from .autonotebook import tqdm as notebook_tqdm\n"
     ]
    }
   ],
   "source": [
    "# Data processing\n",
    "import pandas as pd\n",
    "import numpy as np\n",
    "from collections import Counter\n",
    "# Visualization\n",
    "import matplotlib.pyplot as plt\n",
    "\n",
    "# Data Sets\n",
    "from sklearn.model_selection import train_test_split\n",
    "from sklearn.metrics import classification_report\n",
    "from sklearn.metrics import accuracy_score\n",
    "from sklearn.datasets import load_iris\n",
    "from sklearn.datasets import load_breast_cancer\n",
    "\n",
    "#Auto-encoder imports\n",
    "import torchvision\n",
    "from torchvision import datasets\n",
    "from torchvision import transforms\n",
    "import torch\n",
    "import torch.nn as nn\n",
    "import torch.nn.functional as F\n",
    "import torch.optim as optim\n",
    "\n",
    "#DataSets that we can test\n",
    "liver = 'https://archive.ics.uci.edu/ml/machine-learning-databases/liver-disorders/bupa.data'\n",
    "arrhythmia = 'https://archive.ics.uci.edu/ml/machine-learning-databases/arrhythmia/arrhythmia.data'\n",
    "vowel = 'https://archive.ics.uci.edu/ml/machine-learning-databases/undocumented/connectionist-bench/vowel/vowel-context.data'\n",
    "iris = load_iris()\n",
    "breast_cancer = load_breast_cancer()\n",
    "\n",
    "name_datasets_csv = {'arrhythmia': arrhythmia}\n",
    "name_datasets_sklearn = {'iris_data': iris, 'breast_cancer_data': breast_cancer}\n",
    "\n",
    "# TODO: some error because of the location of the file\n",
    "# from ipynb.fs.full.EDA import vowelData\n",
    "# from ipynb.fs.full.EDA import irisData\n",
    "# from ipynb.fs.full.EDA import breastcancerData"
   ]
  },
  {
   "cell_type": "markdown",
   "metadata": {},
   "source": [
    "# Autoencoder"
   ]
  },
  {
   "cell_type": "code",
   "execution_count": null,
   "metadata": {},
   "outputs": [],
   "source": [
    "# Settings the dtype the first time didn't work, don't ask me why, only god knows :)\n",
    "train_data = np.array(train_data, dtype=np.float32)\n",
    "test_data = np.array(test_data, dtype=np.float32)\n",
    "\n",
    "\n",
    "\n",
    "train_loader = torch.utils.data.DataLoader(train_data, batch_size=64)\n",
    "test_loader = torch.utils.data.DataLoader(test_data, batch_size=64)\n",
    "\n",
    "# Train the autoencoder\n",
    "num_epochs = 50\n",
    "\n",
    "for epoch in range(num_epochs):\n",
    "    for batch in train_loader:\n",
    "\n",
    "        X = batch[:, :-1] # drop the label\n",
    "\n",
    "        # Forward pass\n",
    "        output = autoencoder(X)\n",
    "        loss = criterion(output, X)\n",
    "        \n",
    "        # Backward pass and optimization step\n",
    "        optimizer.zero_grad()\n",
    "        loss.backward()\n",
    "        optimizer.step()\n",
    "    \n",
    "        \n",
    "    # Print the loss for this epoch\n",
    "    print(f\"Epoch [{epoch+1}/{num_epochs}], Loss: {loss.item():.4f}\")"
   ]
  },
  {
   "cell_type": "code",
   "execution_count": null,
   "metadata": {},
   "outputs": [],
   "source": [
    "# Define the autoencoder class\n",
    "class AutoEncoder(nn.Module):\n",
    "    def __init__(self, input_size, hidden_size):\n",
    "        super(AutoEncoder, self).__init__()\n",
    "        self.encoder = nn.Sequential(\n",
    "            nn.Linear(input_size, hidden_size),\n",
    "            nn.ReLU(),\n",
    "            nn.Linear(hidden_size, hidden_size//2),\n",
    "            nn.ReLU(),\n",
    "            nn.Linear(hidden_size//2, hidden_size//4)\n",
    "        )\n",
    "        self.decoder = nn.Sequential(\n",
    "            nn.Linear(hidden_size//4, hidden_size//2),\n",
    "            nn.ReLU(),\n",
    "            nn.Linear(hidden_size//2, hidden_size),\n",
    "            nn.ReLU(),\n",
    "            nn.Linear(hidden_size, input_size)\n",
    "        )\n",
    "    \n",
    "    def forward(self, x):\n",
    "        x = self.encoder(x)\n",
    "        x = self.decoder(x)\n",
    "        return x\n",
    "\n",
    "    #define training function\n",
    "    def training(self, train_loader, input_):\n",
    "        self.hidden_size = 12  # The number of neurons in the hidden layer\n",
    "        self.autoencoder = AutoEncoder(self.input_size, self.hidden_size)\n",
    "\n",
    "        # Define the loss function and optimizer\n",
    "        self.criterion = nn.MSELoss()\n",
    "        self.optimizer = optim.Adam(self.autoencoder.parameters(), lr=0.005)\n",
    "        self.num_epochs = 50\n",
    "\n",
    "        for epoch in range(self.num_epochs):\n",
    "            for batch in train_loader:\n",
    "\n",
    "                X = batch[:, :-1]\n",
    "                output = self.autoencoder(X)\n",
    "                loss = self.criterion(output, X)\n",
    "                \n",
    "        "
   ]
  },
  {
   "cell_type": "code",
   "execution_count": null,
   "metadata": {},
   "outputs": [],
   "source": []
  }
 ],
 "metadata": {
  "kernelspec": {
   "display_name": "Python 3.9.16 ('datascience')",
   "language": "python",
   "name": "python3"
  },
  "language_info": {
   "codemirror_mode": {
    "name": "ipython",
    "version": 3
   },
   "file_extension": ".py",
   "mimetype": "text/x-python",
   "name": "python",
   "nbconvert_exporter": "python",
   "pygments_lexer": "ipython3",
   "version": "3.9.16"
  },
  "orig_nbformat": 4,
  "vscode": {
   "interpreter": {
    "hash": "f973383be120095e6bee08b74badb92e05d6b27588ac500040b1dfbea0773d75"
   }
  }
 },
 "nbformat": 4,
 "nbformat_minor": 2
}
