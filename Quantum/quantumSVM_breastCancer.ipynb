{
 "cells": [
  {
   "cell_type": "code",
   "execution_count": 8,
   "id": "fcfcc58a-b2f6-479c-be97-2451601a64ed",
   "metadata": {
    "tags": []
   },
   "outputs": [],
   "source": [
    "# General Imports\n",
    "import numpy as np\n",
    "import pandas as pd\n",
    "\n",
    "\n",
    "# Visualisation Imports\n",
    "import matplotlib.pyplot as plt\n",
    "\n",
    "# Scikit Imports\n",
    "from sklearn import datasets\n",
    "from sklearn.model_selection import train_test_split\n",
    "from sklearn.svm import SVC\n",
    "from sklearn.decomposition import PCA\n",
    "from sklearn.preprocessing import StandardScaler, MinMaxScaler\n",
    "from sklearn.datasets import load_breast_cancer\n",
    "\n",
    "# Qiskit Imports\n",
    "from qiskit import Aer, execute\n",
    "from qiskit import BasicAer\n",
    "from qiskit.circuit import QuantumCircuit, Parameter, ParameterVector\n",
    "from qiskit.circuit.library import PauliFeatureMap, ZFeatureMap, ZZFeatureMap\n",
    "from qiskit.circuit.library import TwoLocal, NLocal, RealAmplitudes, EfficientSU2\n",
    "from qiskit.circuit.library import HGate, RXGate, RYGate, RZGate, CXGate, CRXGate, CRZGate\n",
    "from qiskit_machine_learning.kernels import QuantumKernel\n",
    "from qiskit.providers.ibmq import IBMQ\n",
    "from qiskit_machine_learning.algorithms import QSVC\n",
    "from qiskit.utils import QuantumInstance\n",
    "\n"
   ]
  },
  {
   "cell_type": "code",
   "execution_count": 10,
   "id": "aba2d52a-e3d2-4c49-a095-2dec51af703f",
   "metadata": {
    "tags": []
   },
   "outputs": [
    {
     "name": "stdout",
     "output_type": "stream",
     "text": [
      "Traceback \u001b[1;36m(most recent call last)\u001b[0m:\n",
      "\u001b[1;36m  Cell \u001b[1;32mIn[10], line 1\u001b[1;36m\n",
      "\u001b[1;33m    from qiskit_ibm_provider import IBMQ\u001b[1;36m\n",
      "\u001b[1;31mImportError\u001b[0m\u001b[1;31m:\u001b[0m cannot import name 'IBMQ' from 'qiskit_ibm_provider' (/opt/conda/lib/python3.10/site-packages/qiskit_ibm_provider/__init__.py)\n",
      "\n",
      "Use %tb to get the full traceback.\n"
     ]
    },
    {
     "data": {
      "text/html": [
       "\n",
       "<style>\n",
       ".button {\n",
       "  border: none;\n",
       "  color: white;\n",
       "  padding: 4px 8px;\n",
       "  text-align: center;\n",
       "  text-decoration: none;\n",
       "  display: inline-block;\n",
       "  font-size: 12px;\n",
       "  margin: 4px 2px;\n",
       "  transition-duration: 0.2s;\n",
       "  cursor: pointer;\n",
       "}\n",
       ".iqx-button {\n",
       "  background-color: #0f62fe; \n",
       "  color: white; \n",
       "}\n",
       ".iqx-button:hover {\n",
       "  background-color: #0043ce;\n",
       "  color: white;\n",
       "}\n",
       "</style>\n",
       "<a href=\"https://stackoverflow.com/search?q=ImportError: cannot import name 'IBMQ' from 'qiskit_ibm_provider' (/opt/conda/lib/python3.10/site-packages/qiskit_ibm_provider/__init__.py)\" target='_blank'><button class='button iqx-button'>Search for solution online</button></a>\n"
      ],
      "text/plain": [
       "<IPython.core.display.HTML object>"
      ]
     },
     "metadata": {},
     "output_type": "display_data"
    }
   ],
   "source": [
    "from qiskit_ibm_provider import IBMQ\n",
    "provider = IBMQ.load_account()\n",
    "sim = provider.backend.ibmq_qasm_simulator"
   ]
  },
  {
   "cell_type": "code",
   "execution_count": 3,
   "id": "8d4b9264-09be-4870-8c83-95d59514ff3b",
   "metadata": {
    "tags": []
   },
   "outputs": [],
   "source": [
    "df = load_breast_cancer()\n",
    "name = 'breast_cancer'"
   ]
  },
  {
   "cell_type": "code",
   "execution_count": 4,
   "id": "5e868f8c-d616-4cd4-8baf-35283cbfffdd",
   "metadata": {
    "tags": []
   },
   "outputs": [
    {
     "name": "stdout",
     "output_type": "stream",
     "text": [
      "(569, 31) [2]\n"
     ]
    }
   ],
   "source": [
    "#Breast Cancer Dataset\n",
    "\n",
    "data = pd.DataFrame(data=df, columns=df.feature_names)\n",
    "data.columns = ['feature{}'.format(i) for i in range(0,data.shape[1])]\n",
    "\n",
    "dataset = pd.DataFrame(df.data).assign(target=df.target)\n",
    "print (dataset.shape,pd.DataFrame(df.target).nunique().tolist()[-1:])"
   ]
  },
  {
   "cell_type": "code",
   "execution_count": 5,
   "id": "8c3d9266-8003-49fa-8a64-3d205cf0827a",
   "metadata": {
    "tags": []
   },
   "outputs": [],
   "source": [
    "# Split dataset\n",
    "sample_train, sample_test, label_train, label_test = train_test_split(\n",
    "     df.data, df.target, test_size=0.2, random_state=22)\n",
    "\n",
    "# Reduce dimensions (the dataset now has a dimensionality of 31 attributes)\n",
    "n_dim = 30 #number of qubits we want to use\n",
    "pca = PCA(n_components=n_dim).fit(sample_train)\n",
    "sample_train = pca.transform(sample_train)\n",
    "sample_test = pca.transform(sample_test)\n",
    "\n",
    "# Normalise\n",
    "std_scale = StandardScaler().fit(sample_train)\n",
    "sample_train = std_scale.transform(sample_train)\n",
    "sample_test = std_scale.transform(sample_test)\n",
    "\n",
    "# Scale\n",
    "samples = np.append(sample_train, sample_test, axis=0)\n",
    "minmax_scale = MinMaxScaler((-1, 1)).fit(samples)\n",
    "sample_train = minmax_scale.transform(sample_train)\n",
    "sample_test = minmax_scale.transform(sample_test)\n",
    "\n",
    "# Select\n",
    "train_size = 100\n",
    "sample_train = sample_train[:train_size]\n",
    "label_train = label_train[:train_size]\n",
    "\n",
    "test_size = 20\n",
    "sample_test = sample_test[:test_size]\n",
    "label_test = label_test[:test_size]"
   ]
  },
  {
   "cell_type": "markdown",
   "id": "b4b0bb71-e44a-4515-9670-a54c79d90892",
   "metadata": {},
   "source": [
    "With our training and testing datasets ready, we set up the QuantumKernel class with the ZZFeatureMap, and use the BasicAer statevector_simulator to estimate the training and testing kernel matrices."
   ]
  },
  {
   "cell_type": "code",
   "execution_count": 6,
   "id": "7fcbc82c-1593-4783-8b49-e2fbe0a6e77b",
   "metadata": {
    "tags": []
   },
   "outputs": [
    {
     "name": "stdout",
     "output_type": "stream",
     "text": [
      "Traceback \u001b[1;36m(most recent call last)\u001b[0m:\n",
      "\u001b[1;36m  Cell \u001b[1;32mIn[6], line 1\u001b[1;36m\n",
      "\u001b[1;33m    ibm_quantum_service = QiskitRuntimeService(channel=\"ibm_quantum\")\u001b[1;36m\n",
      "\u001b[1;31mNameError\u001b[0m\u001b[1;31m:\u001b[0m name 'QiskitRuntimeService' is not defined\n",
      "\n",
      "Use %tb to get the full traceback.\n"
     ]
    },
    {
     "data": {
      "text/html": [
       "\n",
       "<style>\n",
       ".button {\n",
       "  border: none;\n",
       "  color: white;\n",
       "  padding: 4px 8px;\n",
       "  text-align: center;\n",
       "  text-decoration: none;\n",
       "  display: inline-block;\n",
       "  font-size: 12px;\n",
       "  margin: 4px 2px;\n",
       "  transition-duration: 0.2s;\n",
       "  cursor: pointer;\n",
       "}\n",
       ".iqx-button {\n",
       "  background-color: #0f62fe; \n",
       "  color: white; \n",
       "}\n",
       ".iqx-button:hover {\n",
       "  background-color: #0043ce;\n",
       "  color: white;\n",
       "}\n",
       "</style>\n",
       "<a href=\"https://stackoverflow.com/search?q=NameError: name 'QiskitRuntimeService' is not defined\" target='_blank'><button class='button iqx-button'>Search for solution online</button></a>\n"
      ],
      "text/plain": [
       "<IPython.core.display.HTML object>"
      ]
     },
     "metadata": {},
     "output_type": "display_data"
    }
   ],
   "source": [
    "ibm_quantum_service = QiskitRuntimeService(channel=\"ibm_quantum\")\n",
    "ibm_quantum_service.backends(min_num_qubits=30)"
   ]
  },
  {
   "cell_type": "markdown",
   "id": "91e4b93d-49ba-43b6-ab87-411fcd574c28",
   "metadata": {},
   "source": [
    "We then simulate the circuit. We will use the `qasm_simulator` since the circuit contains measurements, but increase the number of shots to reduce the effect of sampling noise."
   ]
  },
  {
   "cell_type": "code",
   "execution_count": 7,
   "id": "f489a991-0f36-4db2-8211-235dbd095621",
   "metadata": {
    "tags": []
   },
   "outputs": [
    {
     "name": "stdout",
     "output_type": "stream",
     "text": [
      "Traceback \u001b[1;36m(most recent call last)\u001b[0m:\n",
      "\u001b[0m  Cell \u001b[0;32mIn[7], line 6\u001b[0m\n",
      "    zz_kernel = QuantumKernel(feature_map=feature_map, quantum_instance=QuantumInstance(backend = Aer.get_backend(\"simulator_statevector\"), shots=1024, seed_simulator=seed, seed_transpiler=seed))\u001b[0m\n",
      "\u001b[0m  File \u001b[0;32m/opt/conda/lib/python3.10/site-packages/qiskit_aer/aerprovider.py:72\u001b[0m in \u001b[0;35mget_backend\u001b[0m\n",
      "    return super().get_backend(name=name, **kwargs)\u001b[0m\n",
      "\u001b[1;36m  File \u001b[1;32m/opt/conda/lib/python3.10/site-packages/qiskit/providers/provider.py:55\u001b[1;36m in \u001b[1;35mget_backend\u001b[1;36m\n",
      "\u001b[1;33m    raise QiskitBackendNotFoundError(\"No backend matches the criteria\")\u001b[1;36m\n",
      "\u001b[1;31mQiskitBackendNotFoundError\u001b[0m\u001b[1;31m:\u001b[0m 'No backend matches the criteria'\n",
      "\n",
      "Use %tb to get the full traceback.\n"
     ]
    },
    {
     "data": {
      "text/html": [
       "\n",
       "<style>\n",
       ".button {\n",
       "  border: none;\n",
       "  color: white;\n",
       "  padding: 4px 8px;\n",
       "  text-align: center;\n",
       "  text-decoration: none;\n",
       "  display: inline-block;\n",
       "  font-size: 12px;\n",
       "  margin: 4px 2px;\n",
       "  transition-duration: 0.2s;\n",
       "  cursor: pointer;\n",
       "}\n",
       ".iqx-button {\n",
       "  background-color: #0f62fe; \n",
       "  color: white; \n",
       "}\n",
       ".iqx-button:hover {\n",
       "  background-color: #0043ce;\n",
       "  color: white;\n",
       "}\n",
       "</style>\n",
       "<a href=\"https://stackoverflow.com/search?q=QiskitBackendNotFoundError: No backend matches the criteria\" target='_blank'><button class='button iqx-button'>Search for solution online</button></a>\n"
      ],
      "text/plain": [
       "<IPython.core.display.HTML object>"
      ]
     },
     "metadata": {},
     "output_type": "display_data"
    }
   ],
   "source": [
    "#applying QSVM on simulator\n",
    "seed = 10598\n",
    "num_qubits = 30\n",
    "feature_map = ZZFeatureMap(feature_dimension=num_qubits, reps=2, entanglement='linear', insert_barriers=True)\n",
    "#SecondOrderExpansion(feature_dimension=num_qubits, depth=2, entanglement='linear')\n",
    "zz_kernel = QuantumKernel(feature_map=feature_map, quantum_instance=QuantumInstance(backend = Aer.get_backend(\"simulator_statevector\"), shots=1024, seed_simulator=seed, seed_transpiler=seed))\n",
    "\n",
    "qsvc = QSVC(quantum_kernel=zz_kernel)\n",
    "\n",
    "qsvc.fit(sample_train, label_train)\n",
    "\n",
    "qsvc_score = qsvc.score(sample_test, label_test)\n",
    "\n",
    "print(f\"QSVC classification test score: {qsvc_score}\")\n"
   ]
  },
  {
   "cell_type": "code",
   "execution_count": null,
   "id": "fc0d45a4-0657-4412-a9d4-bf4a3f790376",
   "metadata": {
    "tags": []
   },
   "outputs": [],
   "source": [
    "backend = service.backend(\"ibmq_qasm_simulator\")\n",
    "job = execute(zz_circuit, backend, shots=8192, \n",
    "              seed_simulator=1024, seed_transpiler=1024)\n",
    "counts = job.result().get_counts(zz_circuit)"
   ]
  },
  {
   "cell_type": "code",
   "execution_count": null,
   "id": "ef045263-acb5-4ca6-8a0d-3442b4422f83",
   "metadata": {},
   "outputs": [],
   "source": []
  },
  {
   "cell_type": "markdown",
   "id": "785e15aa-b9ee-4ae6-bbd4-c143276d34d6",
   "metadata": {},
   "source": [
    "This process is then repeated for each pair of training data samples to fill in the training kernel matrix, and between each training and testing data sample to fill in the testing kernel matrix. Note that each matrix is symmetric, so to reduce computation time, only half the entries are calculated explictly. "
   ]
  },
  {
   "cell_type": "code",
   "execution_count": null,
   "id": "a7effab2-3910-4adc-8c33-264013fd5408",
   "metadata": {},
   "outputs": [],
   "source": [
    "matrix_train = zz_kernel.evaluate(x_vec=sample_train)\n",
    "matrix_test = zz_kernel.evaluate(x_vec=sample_test, y_vec=sample_train)\n",
    "\n",
    "fig, axs = plt.subplots(1, 2, figsize=(10, 5))\n",
    "axs[0].imshow(np.asmatrix(matrix_train),\n",
    "              interpolation='nearest', origin='upper', cmap='Blues')\n",
    "axs[0].set_title(\"training kernel matrix\")\n",
    "axs[1].imshow(np.asmatrix(matrix_test),\n",
    "              interpolation='nearest', origin='upper', cmap='Reds')\n",
    "axs[1].set_title(\"testing kernel matrix\")\n",
    "plt.show()"
   ]
  },
  {
   "cell_type": "code",
   "execution_count": null,
   "id": "0f456f9c-ba0f-4502-b535-89611dcece2d",
   "metadata": {
    "tags": []
   },
   "outputs": [],
   "source": [
    "zzcb_svc = SVC(kernel=zz_kernel.evaluate)\n",
    "zzcb_svc.fit(sample_train, label_train)\n",
    "zzcb_score = zzcb_svc.score(sample_test, label_test)\n",
    "\n",
    "print(f'Callable kernel classification test score: {zzcb_score}')"
   ]
  },
  {
   "cell_type": "code",
   "execution_count": null,
   "id": "81e8a918-9a95-4ff1-b767-4f4eaa7cc0d0",
   "metadata": {},
   "outputs": [],
   "source": []
  }
 ],
 "metadata": {
  "kernelspec": {
   "display_name": "Python 3 (ipykernel)",
   "language": "python",
   "name": "python3"
  },
  "language_info": {
   "codemirror_mode": {
    "name": "ipython",
    "version": 3
   },
   "file_extension": ".py",
   "mimetype": "text/x-python",
   "name": "python",
   "nbconvert_exporter": "python",
   "pygments_lexer": "ipython3",
   "version": "3.10.8"
  },
  "widgets": {
   "application/vnd.jupyter.widget-state+json": {
    "state": {},
    "version_major": 2,
    "version_minor": 0
   }
  }
 },
 "nbformat": 4,
 "nbformat_minor": 5
}
