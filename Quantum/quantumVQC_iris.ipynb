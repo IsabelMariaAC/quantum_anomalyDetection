{
 "cells": [
  {
   "cell_type": "code",
   "execution_count": 9,
   "id": "f4e47bc3-060d-41bb-b3b1-a9d66c9e5803",
   "metadata": {
    "tags": []
   },
   "outputs": [],
   "source": [
    "# General Imports\n",
    "import numpy as np\n",
    "import pandas as pd\n",
    "from collections import Counter\n",
    "\n",
    "# Visualisation Imports\n",
    "import matplotlib.pyplot as plt\n",
    "\n",
    "# Scikit Imports\n",
    "from sklearn import datasets\n",
    "from sklearn.model_selection import train_test_split\n",
    "from sklearn.svm import SVC\n",
    "from sklearn.decomposition import PCA\n",
    "from sklearn.preprocessing import StandardScaler, MinMaxScaler\n",
    "from sklearn.datasets import load_iris\n",
    "\n",
    "# Qiskit Imports\n",
    "from qiskit import Aer, execute\n",
    "from qiskit import BasicAer\n",
    "from qiskit.circuit import QuantumCircuit, Parameter, ParameterVector\n",
    "from qiskit.circuit.library import PauliFeatureMap, ZFeatureMap, ZZFeatureMap\n",
    "from qiskit.circuit.library import TwoLocal, NLocal, RealAmplitudes, EfficientSU2\n",
    "from qiskit.circuit.library import HGate, RXGate, RYGate, RZGate, CXGate, CRXGate, CRZGate\n",
    "from qiskit_machine_learning.kernels import QuantumKernel\n",
    "from qiskit.algorithms.optimizers import SPSA\n",
    "from qiskit_machine_learning.algorithms import VQC\n",
    "from qiskit.algorithms.optimizers import COBYLA\n",
    "from qiskit.utils import QuantumInstance, algorithm_globals\n"
   ]
  },
  {
   "cell_type": "code",
   "execution_count": 2,
   "id": "c52047a2-1812-4ba0-83b5-c30a06c18e90",
   "metadata": {
    "tags": []
   },
   "outputs": [],
   "source": [
    "df = load_iris()"
   ]
  },
  {
   "cell_type": "code",
   "execution_count": 3,
   "id": "d29ed331-26cd-4338-8270-31c846c91d9b",
   "metadata": {
    "tags": []
   },
   "outputs": [
    {
     "name": "stdout",
     "output_type": "stream",
     "text": [
      "(150, 5) [3]\n"
     ]
    }
   ],
   "source": [
    "#Iris Dataset\n",
    "data = pd.DataFrame(data=df, columns=df.feature_names)\n",
    "data.columns = ['feature{}'.format(i) for i in range(0,data.shape[1])]\n",
    "\n",
    "dataset = pd.DataFrame(df.data).assign(target=df.target)\n",
    "print (dataset.shape,pd.DataFrame(df.target).nunique().tolist()[-1:])"
   ]
  },
  {
   "cell_type": "code",
   "execution_count": 4,
   "id": "83c3de8f-907b-4281-9538-001bf4d0998b",
   "metadata": {
    "tags": []
   },
   "outputs": [
    {
     "data": {
      "text/plain": [
       "Counter({False: 20, True: 50})"
      ]
     },
     "execution_count": 4,
     "metadata": {},
     "output_type": "execute_result"
    }
   ],
   "source": [
    "dataset_0 = dataset.copy()\n",
    "dataset_0['target']= (dataset_0['target']==1)\n",
    "dataset_0 = dataset_0.drop(dataset_0[dataset_0['target'] == False].sample(frac=0.80).index)\n",
    "Counter(dataset_0['target'])"
   ]
  },
  {
   "cell_type": "code",
   "execution_count": 5,
   "id": "9674f62b-2f5a-49ff-9711-4c043ac77aa8",
   "metadata": {
    "tags": []
   },
   "outputs": [],
   "source": [
    "X = np.array(dataset_0.iloc[: , :-1])\n",
    "y = np.array(dataset_0.iloc[: , -1:].astype(int))\n"
   ]
  },
  {
   "cell_type": "code",
   "execution_count": 6,
   "id": "ab960255-d05b-4165-b189-8db26acba5fc",
   "metadata": {
    "tags": []
   },
   "outputs": [],
   "source": [
    "# Split dataset\n",
    "sample_train, sample_test, label_train, label_test = train_test_split(\n",
    "     X, y, test_size=0.2, random_state=22)\n",
    "\n",
    "# Reduce dimensions (the dataset now has a dimensionality of 31 attributes)\n",
    "n_dim = 4 #number of qubits we want to use\n",
    "pca = PCA(n_components=n_dim).fit(sample_train)\n",
    "sample_train = pca.transform(sample_train)\n",
    "sample_test = pca.transform(sample_test)\n",
    "\n",
    "# Normalise\n",
    "std_scale = StandardScaler().fit(sample_train)\n",
    "sample_train = std_scale.transform(sample_train)\n",
    "sample_test = std_scale.transform(sample_test)\n",
    "\n",
    "# Scale\n",
    "samples = np.append(sample_train, sample_test, axis=0)\n",
    "minmax_scale = MinMaxScaler((-1, 1)).fit(samples)\n",
    "sample_train = minmax_scale.transform(sample_train)\n",
    "sample_test = minmax_scale.transform(sample_test)\n",
    "\n",
    "# Select\n",
    "train_size = 100\n",
    "sample_train = sample_train[:train_size]\n",
    "label_train = label_train[:train_size]\n",
    "\n",
    "test_size = 20\n",
    "sample_test = sample_test[:test_size]\n",
    "label_test = label_test[:test_size]"
   ]
  },
  {
   "cell_type": "code",
   "execution_count": 11,
   "id": "941ceaf6-1d78-4a7a-b0f2-630b1d7dbfd7",
   "metadata": {
    "tags": []
   },
   "outputs": [
    {
     "name": "stderr",
     "output_type": "stream",
     "text": [
      "/tmp/ipykernel_309/1847008678.py:8: DeprecationWarning: The class ``qiskit.utils.quantum_instance.QuantumInstance`` is deprecated as of qiskit-terra 0.24.0. It will be removed no earlier than 3 months after the release date. For code migration guidelines, visit https://qisk.it/qi_migration.\n",
      "  quantum_instance=QuantumInstance(BasicAer.get_backend('statevector_simulator'),\n",
      "/opt/conda/lib/python3.10/site-packages/sklearn/preprocessing/_encoders.py:828: FutureWarning: `sparse` was renamed to `sparse_output` in version 1.2 and will be removed in 1.4. `sparse_output` is ignored unless you leave `sparse` to its default value.\n",
      "  warnings.warn(\n"
     ]
    },
    {
     "name": "stdout",
     "output_type": "stream",
     "text": [
      "Testing accuracy: 0.86\n"
     ]
    }
   ],
   "source": [
    "seed = 1024\n",
    "\n",
    "feature_map = ZZFeatureMap(feature_dimension=n_dim, reps=2, entanglement=\"linear\")\n",
    "ansatz = TwoLocal(feature_map.num_qubits, ['ry', 'rz'], 'cz', reps=3)\n",
    "vqc = VQC(feature_map=feature_map,\n",
    "          ansatz=ansatz,\n",
    "          optimizer=COBYLA(maxiter=100),\n",
    "          quantum_instance=QuantumInstance(BasicAer.get_backend('statevector_simulator'),\n",
    "                                           shots=8192,\n",
    "                                           seed_simulator=seed,\n",
    "                                           seed_transpiler=seed)\n",
    "          )\n",
    "vqc.fit(sample_train, label_train)\n",
    "\n",
    "score = vqc.score(sample_test, label_test)\n",
    "print(f\"Testing accuracy: {score:0.2f}\")"
   ]
  },
  {
   "cell_type": "code",
   "execution_count": null,
   "id": "e9c667a1-7221-4a85-ae70-9200e35ca6ac",
   "metadata": {},
   "outputs": [],
   "source": []
  }
 ],
 "metadata": {
  "kernelspec": {
   "display_name": "Python 3 (ipykernel)",
   "language": "python",
   "name": "python3"
  },
  "language_info": {
   "codemirror_mode": {
    "name": "ipython",
    "version": 3
   },
   "file_extension": ".py",
   "mimetype": "text/x-python",
   "name": "python",
   "nbconvert_exporter": "python",
   "pygments_lexer": "ipython3",
   "version": "3.10.8"
  },
  "widgets": {
   "application/vnd.jupyter.widget-state+json": {
    "state": {},
    "version_major": 2,
    "version_minor": 0
   }
  }
 },
 "nbformat": 4,
 "nbformat_minor": 5
}
